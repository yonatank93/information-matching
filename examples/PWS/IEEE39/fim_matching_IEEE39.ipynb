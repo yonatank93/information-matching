{
 "cells": [
  {
   "cell_type": "markdown",
   "metadata": {},
   "source": [
    "In this notebook, we will apply the information-matching method to find the optimal PMU placements that leads to full system observability.\n",
    "The objective is translated to requiring non-singular FIM of the system.\n",
    "In practice, we set the target FIM to be a diagonal matrix, where the diagonal element is set to be some small positive number.\n",
    "By doing this, the eigenvalues of the optimal FIM are larger than this small number, and thus the FIM is non-singular.\n",
    "\n",
    "Details of the calculation:\n",
    "* Model: IEEE 39-bus system\n",
    "* Candidate data: Voltage phasor at each bus\n",
    "* Eigenvalue cutoff: 1e-5"
   ]
  },
  {
   "cell_type": "code",
   "execution_count": null,
   "metadata": {
    "ExecuteTime": {
     "end_time": "2024-07-18T15:49:18.911812Z",
     "start_time": "2024-07-18T15:49:17.863053Z"
    }
   },
   "outputs": [],
   "source": [
    "from pathlib import Path\n",
    "\n",
    "import numpy as np\n",
    "import cvxpy as cp\n",
    "import matplotlib as mpl\n",
    "import matplotlib.pyplot as plt\n",
    "\n",
    "from information_matching.convex_optimization import ConvexOpt\n",
    "from information_matching.utils import tol, eps\n",
    "\n",
    "%matplotlib inline\n",
    "plt.style.use(\"default\")"
   ]
  },
  {
   "cell_type": "code",
   "execution_count": null,
   "metadata": {
    "ExecuteTime": {
     "end_time": "2024-07-18T15:49:18.928308Z",
     "start_time": "2024-07-18T15:49:18.917684Z"
    }
   },
   "outputs": [],
   "source": [
    "# Set directories\n",
    "case = 39  # 39-bus case\n",
    "\n",
    "WORK_DIR = Path().absolute()\n",
    "FIM_DIR = WORK_DIR / \"FIMs\"\n",
    "DATA_DIR = WORK_DIR / \"models\" / \"data\""
   ]
  },
  {
   "cell_type": "markdown",
   "metadata": {},
   "source": [
    "# Setup"
   ]
  },
  {
   "cell_type": "code",
   "execution_count": null,
   "metadata": {
    "ExecuteTime": {
     "end_time": "2024-07-18T15:49:18.943843Z",
     "start_time": "2024-07-18T15:49:18.936008Z"
    }
   },
   "outputs": [],
   "source": [
    "# Model information\n",
    "nparams = 2 * case"
   ]
  },
  {
   "cell_type": "markdown",
   "metadata": {},
   "source": [
    "## Get FIMs for candidate configurations"
   ]
  },
  {
   "cell_type": "markdown",
   "metadata": {},
   "source": [
    "With some arguments, we might want to exclude some buses and preassigned PMUs on some buses.\n",
    "\n",
    "For example, we can consider the formulation in https://ieeexplore.ieee.org/document/4519389, where the authors have some preassigned buses to place PMUs and exclude some buses as candidates."
   ]
  },
  {
   "cell_type": "code",
   "execution_count": null,
   "metadata": {
    "ExecuteTime": {
     "end_time": "2024-07-18T15:49:18.960087Z",
     "start_time": "2024-07-18T15:49:18.949693Z"
    }
   },
   "outputs": [],
   "source": [
    "# No preassigned buses and include all buses as candidate locations\n",
    "preassigned_buses = np.array([], dtype=int)\n",
    "candidate_buses = np.arange(case) + 1\n",
    "\n",
    "# # Some preassigned buses and few candidates from the paper\n",
    "# # https://ieeexplore.ieee.org/document/4519389\n",
    "# preassigned_buses = np.array([20, 23, 25, 29], dtype=int)\n",
    "# candidate_buses = np.array(\n",
    "#     [2, 3, 4, 5, 6, 7, 8, 10, 11, 12, 13, 14, 15,\n",
    "#      16, 17, 18, 19, 21, 22, 24, 26, 27, 28, 39,]\n",
    "#     dtype=int,\n",
    "# )"
   ]
  },
  {
   "cell_type": "code",
   "execution_count": null,
   "metadata": {
    "ExecuteTime": {
     "end_time": "2024-07-18T15:49:18.993108Z",
     "start_time": "2024-07-18T15:49:18.965810Z"
    }
   },
   "outputs": [],
   "source": [
    "# Finalize the candidate buses after considering preassigned buses\n",
    "candidate_buses=np.sort(np.unique(np.append(preassigned_buses,candidate_buses)))\n",
    "\n",
    "# Configurations\n",
    "nconfigs = len(candidate_buses)\n",
    "configs = candidate_buses\n",
    "config_ids = np.array([f\"bus{ii}\" for ii in configs])\n",
    "config_ids"
   ]
  },
  {
   "cell_type": "code",
   "execution_count": null,
   "metadata": {
    "ExecuteTime": {
     "end_time": "2024-07-18T15:49:19.687272Z",
     "start_time": "2024-07-18T15:49:18.998626Z"
    }
   },
   "outputs": [],
   "source": [
    "# Load configuration FIMs\n",
    "fim_configs_tensor = np.empty((nconfigs, nparams, nparams))\n",
    "for ii, bus in enumerate(configs):\n",
    "    ff = np.loadtxt(FIM_DIR / f\"fim_bus{bus}.csv\", delimiter=\",\")\n",
    "    fim_configs_tensor[ii] = ff"
   ]
  },
  {
   "cell_type": "markdown",
   "metadata": {},
   "source": [
    "## Get the target FIM"
   ]
  },
  {
   "cell_type": "markdown",
   "metadata": {},
   "source": [
    "Like in the IEEE 14-bus system case, we will also set the target FIM to be a diagonal matrix with a positive cutoff value for the eigenvalues on the diagonal.\n",
    "However, one thing that is different is that we might have preassigned buses in this case.\n",
    "To incorporate this information, we will subtract the FIMs from the preassigned buses (with weight 1.0) from the target FIM.\n",
    "That is, the effective target FIM is the diagonal matrix minus the FIMs from the preassigned buses."
   ]
  },
  {
   "cell_type": "code",
   "execution_count": null,
   "metadata": {
    "ExecuteTime": {
     "end_time": "2024-07-18T15:49:19.712603Z",
     "start_time": "2024-07-18T15:49:19.700251Z"
    }
   },
   "outputs": [],
   "source": [
    "# Load the FIM of the preassigned buses and sum them up\n",
    "fim_preassigned = np.zeros((nparams, nparams))\n",
    "for bus in preassigned_buses:\n",
    "    ff = np.loadtxt(DATA_DIR / \"FIMs\" / f\"fim_bus{bus}.csv\", delimiter=\",\")\n",
    "    fim_preassigned += ff"
   ]
  },
  {
   "cell_type": "code",
   "execution_count": null,
   "metadata": {
    "ExecuteTime": {
     "end_time": "2024-07-18T15:49:19.731348Z",
     "start_time": "2024-07-18T15:49:19.718000Z"
    }
   },
   "outputs": [],
   "source": [
    "# Matrix to impose tolerance for the non-zero eigenvalues\n",
    "lambda_tol = 1e-5\n",
    "fim_tol = lambda_tol * np.eye(nparams)\n",
    "print(\"Eigenvalue lower bound:\", lambda_tol)"
   ]
  },
  {
   "cell_type": "code",
   "execution_count": null,
   "metadata": {
    "ExecuteTime": {
     "end_time": "2024-07-18T15:49:19.745100Z",
     "start_time": "2024-07-18T15:49:19.737773Z"
    }
   },
   "outputs": [],
   "source": [
    "# Effective target FIM\n",
    "# Constant matrix on the RHS of the PSD constraint\n",
    "fim_target = fim_tol - fim_preassigned"
   ]
  },
  {
   "cell_type": "markdown",
   "metadata": {},
   "source": [
    "# Convex optimization"
   ]
  },
  {
   "cell_type": "markdown",
   "metadata": {},
   "source": [
    "Additional note:\n",
    "\n",
    "We will perform the optimization iteratively.\n",
    "In each iteration, we scale the weights being optimize by the optimal weights from the previous iteration.\n",
    "By doing so, the objective function in the convex optimization better mimics $\\ell_0$-norm to enforce sparsity."
   ]
  },
  {
   "cell_type": "code",
   "execution_count": null,
   "metadata": {
    "ExecuteTime": {
     "end_time": "2024-07-18T15:49:19.762320Z",
     "start_time": "2024-07-18T15:49:19.751543Z"
    }
   },
   "outputs": [],
   "source": [
    "# Construct the input FIMs\n",
    "# FIM target is fine, because we only apply scale 1.0\n",
    "# FIM configs\n",
    "fim_configs = {}\n",
    "for ii, identifier in enumerate(config_ids):\n",
    "    fim_configs.update({identifier: {\"fim\": fim_configs_tensor[ii]}})"
   ]
  },
  {
   "cell_type": "code",
   "execution_count": null,
   "metadata": {
    "ExecuteTime": {
     "end_time": "2024-07-18T15:51:09.777033Z",
     "start_time": "2024-07-18T15:49:19.768206Z"
    }
   },
   "outputs": [],
   "source": [
    "# Convex optimization\n",
    "# Settings\n",
    "cvx_tol = eps ** 0.75\n",
    "solver = dict(\n",
    "    verbose=False, solver=cp.SDPA, epsilonStar=cvx_tol, gammaStar=0.5, lambdaStar=1e3\n",
    ")\n",
    "print(\"Tolerance:\", cvx_tol)\n",
    "\n",
    "plt.figure()\n",
    "wopt = np.ones(nconfigs)  # Initial weights\n",
    "for jj in range(50):\n",
    "    # Update the weight scales\n",
    "    for ii, identifier in enumerate(config_ids):\n",
    "        # Add weight scale information,aAdd some small number for numerical stability\n",
    "        fim_configs[identifier].update({\"weight_scale\": 1 / (wopt[ii] + 1e-15)})\n",
    "    cvxopt = ConvexOpt(fim_target, fim_configs, l1norm_obj=True)\n",
    "\n",
    "    try:\n",
    "        # Solve\n",
    "        cvxopt.solve(solver=solver)\n",
    "        result = cvxopt.result.copy()\n",
    "        wopt = result[\"wm\"]\n",
    "        dual = result[\"dual_wm\"]\n",
    "        print(\"Violation:\", cvxopt.constraints[1].violation())\n",
    "    except Exception:\n",
    "        cvxopt.result = result\n",
    "        break\n",
    "\n",
    "    plt.plot(wopt, label=jj)\n",
    "\n",
    "plt.yscale(\"log\")\n",
    "plt.xticks(range(nconfigs), config_ids, rotation=90)\n",
    "plt.ylabel(\"Weights\")\n",
    "plt.legend(title=\"Iteration\", bbox_to_anchor=(1, 1))\n",
    "plt.show()"
   ]
  },
  {
   "cell_type": "markdown",
   "metadata": {},
   "source": [
    "## Post-processing"
   ]
  },
  {
   "cell_type": "code",
   "execution_count": null,
   "metadata": {
    "ExecuteTime": {
     "end_time": "2024-07-18T15:51:09.787250Z",
     "start_time": "2024-07-18T15:51:09.780740Z"
    },
    "code_folding": [
     0
    ]
   },
   "outputs": [],
   "source": [
    "# # Plot the weights of the last step\n",
    "# plt.figure()\n",
    "# plt.title(f\"Eigenvalue lower bound: {lambda_tol:0.3e}\")\n",
    "# plt.plot(wopt, label=\"weights\")\n",
    "# plt.plot(dual, label=\"dual weights\")\n",
    "# plt.yscale(\"log\")\n",
    "# plt.xticks(range(nconfigs), config_ids, rotation=90)\n",
    "# plt.legend()\n",
    "# plt.show()"
   ]
  },
  {
   "cell_type": "code",
   "execution_count": null,
   "metadata": {
    "ExecuteTime": {
     "end_time": "2024-07-18T15:51:09.810314Z",
     "start_time": "2024-07-18T15:51:09.791125Z"
    }
   },
   "outputs": [],
   "source": [
    "# Get the optimal buses\n",
    "idx_wopt = np.where(wopt > cvx_tol)[0]  # Index to the optimal buses\n",
    "print(\"Optimal buses:\")\n",
    "_ = [print(f'{config_ids[ii]} \\t {wopt[ii]}') for ii in idx_wopt]"
   ]
  },
  {
   "cell_type": "code",
   "execution_count": null,
   "metadata": {
    "ExecuteTime": {
     "end_time": "2024-07-18T15:51:10.388078Z",
     "start_time": "2024-07-18T15:51:09.818104Z"
    }
   },
   "outputs": [],
   "source": [
    "# Test the optimal buses\n",
    "weighted_fims_configs = fim_configs_tensor * wopt.reshape((-1, 1, 1))\n",
    "I = np.sum(weighted_fims_configs[idx_wopt], axis=0)\n",
    "print(\"Eigenvalues:\")\n",
    "print(np.linalg.eigvalsh(I))\n",
    "\n",
    "plt.figure()\n",
    "cbound = np.max([abs(np.min(I)), abs(np.max(I))])\n",
    "plt.imshow(I, cmap=\"bwr\", norm=mpl.colors.SymLogNorm(1e0, vmin=-cbound, vmax=cbound))\n",
    "plt.colorbar()\n",
    "plt.show()"
   ]
  },
  {
   "cell_type": "markdown",
   "metadata": {},
   "source": [
    "Even though the smallest eigenvalue of the optimal FIM is smaller than the cutoff, but they are pretty close.\n",
    "We believe this is just numerical artifact."
   ]
  }
 ],
 "metadata": {
  "kernelspec": {
   "display_name": "Python 3 (ipykernel)",
   "language": "python",
   "name": "python3"
  },
  "language_info": {
   "codemirror_mode": {
    "name": "ipython",
    "version": 3
   },
   "file_extension": ".py",
   "mimetype": "text/x-python",
   "name": "python",
   "nbconvert_exporter": "python",
   "pygments_lexer": "ipython3",
   "version": "3.7.4"
  },
  "toc": {
   "base_numbering": 1,
   "nav_menu": {},
   "number_sections": true,
   "sideBar": true,
   "skip_h1_title": false,
   "title_cell": "Table of Contents",
   "title_sidebar": "Contents",
   "toc_cell": false,
   "toc_position": {
    "height": "calc(100% - 180px)",
    "left": "10px",
    "top": "150px",
    "width": "372.364px"
   },
   "toc_section_display": true,
   "toc_window_display": false
  },
  "varInspector": {
   "cols": {
    "lenName": 16,
    "lenType": 16,
    "lenVar": 40
   },
   "kernels_config": {
    "python": {
     "delete_cmd_postfix": "",
     "delete_cmd_prefix": "del ",
     "library": "var_list.py",
     "varRefreshCmd": "print(var_dic_list())"
    },
    "r": {
     "delete_cmd_postfix": ") ",
     "delete_cmd_prefix": "rm(",
     "library": "var_list.r",
     "varRefreshCmd": "cat(var_dic_list()) "
    }
   },
   "types_to_exclude": [
    "module",
    "function",
    "builtin_function_or_method",
    "instance",
    "_Feature"
   ],
   "window_display": false
  }
 },
 "nbformat": 4,
 "nbformat_minor": 2
}
