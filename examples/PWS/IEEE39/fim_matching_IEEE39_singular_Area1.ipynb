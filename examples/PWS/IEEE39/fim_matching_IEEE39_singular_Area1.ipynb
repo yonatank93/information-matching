{
 "cells": [
  {
   "cell_type": "markdown",
   "metadata": {},
   "source": [
    "This notebook is a continuation of the `fim_matching_IEEE39.ipynb`.\n",
    "Here, we want to only look at some area in the network.\n",
    "The information about the area is obtained from [matpower](https://matpower.org/docs/ref/matpower5.0/menu5.0.html), which references Cornell's [TC calculator](https://www.pserc.cornell.edu/tcc/tcc.md-SYSTEM=2.html).\n",
    "The buses in the area are buses 4, 5, 6, 7, 8, 9, 10, 11, 12, 13, 14, 31, 32, and 39."
   ]
  },
  {
   "cell_type": "code",
   "execution_count": null,
   "metadata": {
    "ExecuteTime": {
     "end_time": "2024-06-23T00:57:14.205239Z",
     "start_time": "2024-06-23T00:57:13.937652Z"
    }
   },
   "outputs": [],
   "source": [
    "from pathlib import Path\n",
    "import json\n",
    "\n",
    "import numpy as np\n",
    "import cvxpy as cp\n",
    "import matplotlib.pyplot as plt\n",
    "\n",
    "from information_matching.convex_optimization import ConvexOpt\n",
    "from information_matching.utils import tol, eps\n",
    "\n",
    "%matplotlib inline\n",
    "plt.style.use(\"default\")"
   ]
  },
  {
   "cell_type": "code",
   "execution_count": null,
   "metadata": {
    "ExecuteTime": {
     "end_time": "2024-06-23T00:57:14.216907Z",
     "start_time": "2024-06-23T00:57:14.209690Z"
    }
   },
   "outputs": [],
   "source": [
    "# Set directories\n",
    "case = 39  # 39-bus case\n",
    "\n",
    "WORK_DIR = Path().absolute()\n",
    "FIM_DIR = WORK_DIR / \"FIMs\"\n",
    "DATA_DIR = WORK_DIR / \"models\" / \"data\""
   ]
  },
  {
   "cell_type": "markdown",
   "metadata": {},
   "source": [
    "# Setup"
   ]
  },
  {
   "cell_type": "markdown",
   "metadata": {},
   "source": [
    "First, remember that we only want to make measurement of the buses in the area and we only care about the observability of these buses."
   ]
  },
  {
   "cell_type": "code",
   "execution_count": null,
   "metadata": {
    "ExecuteTime": {
     "end_time": "2024-06-23T00:57:14.239366Z",
     "start_time": "2024-06-23T00:57:14.220706Z"
    }
   },
   "outputs": [],
   "source": [
    "# Load the area data, which contains information about which buses in the area\n",
    "with open(DATA_DIR / \"area_partition.json\", \"r\") as f:\n",
    "    area_dict = json.load(f)\n",
    "\n",
    "area = \"Area1\"\n",
    "buses_area = area_dict[area]"
   ]
  },
  {
   "cell_type": "code",
   "execution_count": null,
   "metadata": {
    "ExecuteTime": {
     "end_time": "2024-06-23T00:57:14.258432Z",
     "start_time": "2024-06-23T00:57:14.246906Z"
    }
   },
   "outputs": [],
   "source": [
    "# Model information\n",
    "nparams = 2 * len(buses_area)"
   ]
  },
  {
   "cell_type": "code",
   "execution_count": null,
   "metadata": {
    "ExecuteTime": {
     "end_time": "2024-06-23T00:57:14.291738Z",
     "start_time": "2024-06-23T00:57:14.262945Z"
    }
   },
   "outputs": [],
   "source": [
    "# Configurations\n",
    "nconfigs = len(buses_area)\n",
    "configs = buses_area\n",
    "config_ids = np.array([f\"bus{ii}\" for ii in configs])\n",
    "config_ids"
   ]
  },
  {
   "cell_type": "code",
   "execution_count": null,
   "metadata": {
    "ExecuteTime": {
     "end_time": "2024-06-23T00:57:14.316855Z",
     "start_time": "2024-06-23T00:57:14.295151Z"
    }
   },
   "outputs": [],
   "source": [
    "# Load configuration FIMs\n",
    "# Since we only care about the buses in the area, we need to remove some rows and\n",
    "# columns in the FIMs.\n",
    "idx_buses = np.array(buses_area) - 1  # buses zero-based index\n",
    "# Index of the parameters we will use\n",
    "idx_params = np.sort(np.append(2 * idx_buses, 2 * idx_buses + 1))\n",
    "\n",
    "fim_configs_tensor = np.empty((nconfigs, nparams, nparams))\n",
    "for ii, bus in enumerate(configs):\n",
    "    J = np.load(FIM_DIR / f\"jacobian_bus{bus}.npy\")[:, idx_params]\n",
    "    I = J.T @ J\n",
    "    fim_configs_tensor[ii] = I"
   ]
  },
  {
   "cell_type": "code",
   "execution_count": null,
   "metadata": {
    "ExecuteTime": {
     "end_time": "2024-06-23T00:57:14.332719Z",
     "start_time": "2024-06-23T00:57:14.323737Z"
    }
   },
   "outputs": [],
   "source": [
    "# Target FIM\n",
    "lambda_tol = 1e-5  # Eigenvalue cutoff\n",
    "fim_target = np.diag(np.ones(nparams)) * lambda_tol\n",
    "print(\"Eigenvalue lower bound:\", lambda_tol)"
   ]
  },
  {
   "cell_type": "markdown",
   "metadata": {},
   "source": [
    "# Convex optimization"
   ]
  },
  {
   "cell_type": "code",
   "execution_count": null,
   "metadata": {
    "ExecuteTime": {
     "end_time": "2024-06-23T00:57:14.344269Z",
     "start_time": "2024-06-23T00:57:14.336153Z"
    },
    "code_folding": [
     0
    ]
   },
   "outputs": [],
   "source": [
    "# # Use the result from the MISDP problem to help the calculation here\n",
    "# # We use this information to set an initial guess for the optimization\n",
    "# opt_buses = np.loadtxt(\n",
    "#     DATA_DIR / \"ieee39_opt_nopreassigned.txt\", delimiter=\",\", dtype=int\n",
    "# )\n",
    "# idx_misdp = []\n",
    "# for bus in opt_buses:\n",
    "#     loc = np.where(buses_area == bus)[0]\n",
    "#     if len(loc) > 0:  # and bus not in preassigned_buses:\n",
    "#         idx_misdp.append(loc[0])\n",
    "# np.array(configs)[idx_misdp]"
   ]
  },
  {
   "cell_type": "code",
   "execution_count": null,
   "metadata": {
    "ExecuteTime": {
     "end_time": "2024-06-23T00:57:21.786069Z",
     "start_time": "2024-06-23T00:57:14.348279Z"
    }
   },
   "outputs": [],
   "source": [
    "# Convex optimization\n",
    "# Settings\n",
    "cvx_tol = eps ** 0.75\n",
    "print(\"Tolerance:\", cvx_tol)\n",
    "\n",
    "solver = dict(\n",
    "    verbose=False, solver=cp.SDPA, epsilonStar=cvx_tol, gammaStar=0.5, lambdaStar=1e3\n",
    ")\n",
    "\n",
    "plt.figure(dpi=150)\n",
    "wopt = np.ones(nconfigs)  # Initial weights\n",
    "for ii in range(10):\n",
    "    print(ii)\n",
    "    cvxopt = ConvexOpt(\n",
    "        fim_target,\n",
    "        fim_configs_tensor,\n",
    "        np.array(config_ids),\n",
    "        norm={\"weights\": wopt + 1e-12},\n",
    "        l1norm_obj=True,\n",
    "    )\n",
    "    \n",
    "    try:\n",
    "        # Solve\n",
    "        # ig = np.zeros(nconfigs)\n",
    "        # ig[idx_misdp] = 1.0\n",
    "        # cvxopt.wm.value = ig\n",
    "        cvxopt.solve(solver=solver)\n",
    "\n",
    "        result = cvxopt.result.copy()\n",
    "        wopt = result[\"wm\"]\n",
    "        dual = result[\"dual_wm\"]\n",
    "        print(\"Violation:\", cvxopt.constraints[1].violation())\n",
    "\n",
    "    except Exception:\n",
    "        cvxopt.result = result\n",
    "        break\n",
    "\n",
    "    plt.plot(wopt, label=ii)\n",
    "\n",
    "plt.yscale(\"log\")\n",
    "plt.xticks(range(nconfigs), config_ids, rotation=90)\n",
    "plt.ylabel(\"Weights\")\n",
    "plt.legend(title=\"Iteration\", bbox_to_anchor=(1, 1))\n",
    "plt.show()"
   ]
  },
  {
   "cell_type": "markdown",
   "metadata": {},
   "source": [
    "## Post-processing"
   ]
  },
  {
   "cell_type": "code",
   "execution_count": null,
   "metadata": {
    "ExecuteTime": {
     "end_time": "2024-06-23T00:57:21.802063Z",
     "start_time": "2024-06-23T00:57:21.796073Z"
    },
    "code_folding": [
     0
    ]
   },
   "outputs": [],
   "source": [
    "# # Plot the weights of the last step\n",
    "# plt.figure()\n",
    "# plt.title(f\"Eigenvalue lower bound: {lambda_tol:0.3e}\")\n",
    "# plt.plot(wopt, label=\"weights\")\n",
    "# plt.plot(dual, label=\"dual weights\")\n",
    "# plt.yscale(\"log\")\n",
    "# plt.xticks(range(nconfigs), config_ids, rotation=90)\n",
    "# plt.legend()\n",
    "# plt.show()"
   ]
  },
  {
   "cell_type": "code",
   "execution_count": null,
   "metadata": {
    "ExecuteTime": {
     "end_time": "2024-06-23T00:57:21.815207Z",
     "start_time": "2024-06-23T00:57:21.804980Z"
    }
   },
   "outputs": [],
   "source": [
    "# Get the optimal buses\n",
    "idx_wopt = np.where(wopt > cvx_tol)[0]  # Index to the optimal buses\n",
    "print(\"Optimal buses:\")\n",
    "_ = [print(f'{config_ids[ii]} \\t {wopt[ii]}') for ii in idx_wopt]"
   ]
  },
  {
   "cell_type": "code",
   "execution_count": null,
   "metadata": {
    "ExecuteTime": {
     "end_time": "2024-06-23T00:57:22.236799Z",
     "start_time": "2024-06-23T00:57:21.819490Z"
    }
   },
   "outputs": [],
   "source": [
    "# Test the optimal buses\n",
    "weighted_fims_configs = fim_configs_tensor * wopt.reshape((-1, 1, 1))\n",
    "I = np.sum(weighted_fims_configs[idx_wopt], axis=0)\n",
    "print(\"Eigenvalues:\")\n",
    "print(np.linalg.eigvalsh(I))\n",
    "\n",
    "plt.figure()\n",
    "cbound = np.max([abs(np.min(I)), abs(np.max(I))])\n",
    "plt.imshow(I, cmap=\"bwr\", norm=mpl.colors.SymLogNorm(1e0, vmin=-cbound, vmax=cbound))\n",
    "plt.colorbar()\n",
    "plt.show()"
   ]
  },
  {
   "cell_type": "code",
   "execution_count": null,
   "metadata": {},
   "outputs": [],
   "source": []
  }
 ],
 "metadata": {
  "kernelspec": {
   "display_name": "information_matching",
   "language": "python",
   "name": "information_matching"
  },
  "language_info": {
   "codemirror_mode": {
    "name": "ipython",
    "version": 3
   },
   "file_extension": ".py",
   "mimetype": "text/x-python",
   "name": "python",
   "nbconvert_exporter": "python",
   "pygments_lexer": "ipython3",
   "version": "3.7.4"
  },
  "toc": {
   "base_numbering": 1,
   "nav_menu": {},
   "number_sections": true,
   "sideBar": true,
   "skip_h1_title": false,
   "title_cell": "Table of Contents",
   "title_sidebar": "Contents",
   "toc_cell": false,
   "toc_position": {
    "height": "calc(100% - 180px)",
    "left": "10px",
    "top": "150px",
    "width": "372.364px"
   },
   "toc_section_display": true,
   "toc_window_display": false
  },
  "varInspector": {
   "cols": {
    "lenName": 16,
    "lenType": 16,
    "lenVar": 40
   },
   "kernels_config": {
    "python": {
     "delete_cmd_postfix": "",
     "delete_cmd_prefix": "del ",
     "library": "var_list.py",
     "varRefreshCmd": "print(var_dic_list())"
    },
    "r": {
     "delete_cmd_postfix": ") ",
     "delete_cmd_prefix": "rm(",
     "library": "var_list.r",
     "varRefreshCmd": "cat(var_dic_list()) "
    }
   },
   "types_to_exclude": [
    "module",
    "function",
    "builtin_function_or_method",
    "instance",
    "_Feature"
   ],
   "window_display": false
  }
 },
 "nbformat": 4,
 "nbformat_minor": 2
}
