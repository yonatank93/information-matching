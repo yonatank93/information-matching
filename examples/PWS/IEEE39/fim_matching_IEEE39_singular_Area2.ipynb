{
 "cells": [
  {
   "cell_type": "markdown",
   "metadata": {},
   "source": [
    "This notebook is a continuation of the `fim_matching_IEEE39.ipynb`.\n",
    "Here, we want to only look at some area in the network.\n",
    "The information about the area is obtained from [matpower](https://matpower.org/docs/ref/matpower5.0/menu5.0.html), which references Cornell's [TC calculator](https://www.pserc.cornell.edu/tcc/tcc.md-SYSTEM=2.html).\n",
    "The buses in the area are buses 1, 2, 3, 17, 18, 25, 26, 27, 30, and 37."
   ]
  },
  {
   "cell_type": "code",
   "execution_count": null,
   "metadata": {
    "ExecuteTime": {
     "end_time": "2024-06-26T15:50:37.743221Z",
     "start_time": "2024-06-26T15:50:37.041381Z"
    }
   },
   "outputs": [],
   "source": [
    "from pathlib import Path\n",
    "import json\n",
    "\n",
    "import numpy as np\n",
    "import cvxpy as cp\n",
    "import matplotlib.pyplot as plt\n",
    "\n",
    "from information_matching.convex_optimization import ConvexOpt\n",
    "from information_matching.utils import tol, eps\n",
    "\n",
    "%matplotlib inline\n",
    "plt.style.use(\"default\")"
   ]
  },
  {
   "cell_type": "code",
   "execution_count": null,
   "metadata": {
    "ExecuteTime": {
     "end_time": "2024-06-26T15:50:37.753884Z",
     "start_time": "2024-06-26T15:50:37.748383Z"
    }
   },
   "outputs": [],
   "source": [
    "# Set directories\n",
    "case = 39  # 39-bus case\n",
    "\n",
    "WORK_DIR = Path().absolute()\n",
    "FIM_DIR = WORK_DIR / \"FIMs\"\n",
    "DATA_DIR = WORK_DIR / \"models\" / \"data\""
   ]
  },
  {
   "cell_type": "markdown",
   "metadata": {},
   "source": [
    "# Setup"
   ]
  },
  {
   "cell_type": "markdown",
   "metadata": {},
   "source": [
    "First, remember that we only want to make measurement of the buses in the area and we only care about the observability of these buses."
   ]
  },
  {
   "cell_type": "code",
   "execution_count": null,
   "metadata": {
    "ExecuteTime": {
     "end_time": "2024-06-26T15:50:37.764727Z",
     "start_time": "2024-06-26T15:50:37.757833Z"
    }
   },
   "outputs": [],
   "source": [
    "# Load the area data, which contains information about which buses in the area\n",
    "with open(DATA_DIR / \"area_partition.json\", \"r\") as f:\n",
    "    area_dict = json.load(f)\n",
    "\n",
    "area = \"Area2\"\n",
    "buses_area = area_dict[area]"
   ]
  },
  {
   "cell_type": "code",
   "execution_count": null,
   "metadata": {
    "ExecuteTime": {
     "end_time": "2024-06-26T15:50:37.776260Z",
     "start_time": "2024-06-26T15:50:37.771446Z"
    }
   },
   "outputs": [],
   "source": [
    "# Model information\n",
    "nparams = 2 * case"
   ]
  },
  {
   "cell_type": "code",
   "execution_count": null,
   "metadata": {
    "ExecuteTime": {
     "end_time": "2024-06-26T15:50:37.794500Z",
     "start_time": "2024-06-26T15:50:37.779399Z"
    }
   },
   "outputs": [],
   "source": [
    "# Configurations\n",
    "nconfigs = len(buses_area)\n",
    "configs = buses_area\n",
    "config_ids = np.array([f\"bus{ii}\" for ii in configs])\n",
    "config_ids"
   ]
  },
  {
   "cell_type": "code",
   "execution_count": null,
   "metadata": {
    "ExecuteTime": {
     "end_time": "2024-06-26T15:50:37.813833Z",
     "start_time": "2024-06-26T15:50:37.797791Z"
    }
   },
   "outputs": [],
   "source": [
    "# Load configuration FIMs\n",
    "# Note that each candidate bus still measure the voltage phasor for all connected\n",
    "# buses, even outside the area of interest.\n",
    "fim_configs_tensor = np.empty((nconfigs, nparams, nparams))\n",
    "for ii, bus in enumerate(configs):\n",
    "    J = np.load(FIM_DIR / f\"jacobian_bus{bus}.npy\")\n",
    "    I = J.T @ J\n",
    "    fim_configs_tensor[ii] = I"
   ]
  },
  {
   "cell_type": "code",
   "execution_count": null,
   "metadata": {
    "ExecuteTime": {
     "end_time": "2024-06-26T15:50:37.828282Z",
     "start_time": "2024-06-26T15:50:37.817142Z"
    }
   },
   "outputs": [],
   "source": [
    "# Target FIM\n",
    "# Index of the parameters for observation within the area\n",
    "idx_buses = np.array(buses_area) - 1  # buses zero-based index\n",
    "idx_params = np.sort(np.append(2 * idx_buses, 2 * idx_buses + 1))\n",
    "\n",
    "lambda_tol = 1e-5  # Eigenvalue cutoff\n",
    "fim_target = np.diag(np.zeros(nparams))\n",
    "fim_target[idx_params, idx_params] = np.ones_like(idx_params) * lambda_tol\n",
    "print(\"Eigenvalue lower bound:\", lambda_tol)"
   ]
  },
  {
   "cell_type": "markdown",
   "metadata": {},
   "source": [
    "# Convex optimization"
   ]
  },
  {
   "cell_type": "code",
   "execution_count": null,
   "metadata": {
    "ExecuteTime": {
     "end_time": "2024-06-26T15:50:37.838436Z",
     "start_time": "2024-06-26T15:50:37.831726Z"
    },
    "code_folding": [
     0
    ]
   },
   "outputs": [],
   "source": [
    "# # Use the result from the MISDP problem to help the calculation here\n",
    "# # We use this information to set an initial guess for the optimization\n",
    "# opt_buses = np.loadtxt(\n",
    "#     DATA_DIR / \"ieee39_opt_nopreassigned.txt\", delimiter=\",\", dtype=int\n",
    "# )\n",
    "# idx_misdp = []\n",
    "# for bus in opt_buses:\n",
    "#     loc = np.where(buses_area == bus)[0]\n",
    "#     if len(loc) > 0:  # and bus not in preassigned_buses:\n",
    "#         idx_misdp.append(loc[0])\n",
    "# np.array(configs)[idx_misdp]"
   ]
  },
  {
   "cell_type": "code",
   "execution_count": null,
   "metadata": {
    "ExecuteTime": {
     "end_time": "2024-06-26T15:50:56.742910Z",
     "start_time": "2024-06-26T15:50:37.842131Z"
    }
   },
   "outputs": [],
   "source": [
    "# Convex optimization\n",
    "# Settings\n",
    "cvx_tol = eps ** 0.75\n",
    "print(\"Tolerance:\", cvx_tol)\n",
    "\n",
    "solver = dict(\n",
    "    verbose=False, solver=cp.SDPA, epsilonStar=cvx_tol, gammaStar=0.5, lambdaStar=1e3\n",
    ")\n",
    "\n",
    "plt.figure(dpi=150)\n",
    "wopt = np.ones(nconfigs)  # Initial weights\n",
    "for ii in range(20):\n",
    "    print(ii)\n",
    "    cvxopt = ConvexOpt(\n",
    "        fim_target,\n",
    "        fim_configs_tensor,\n",
    "        np.array(config_ids),\n",
    "        norm={\"weights\": wopt + 1e-12},\n",
    "        l1norm_obj=True,\n",
    "    )\n",
    "    \n",
    "    try:\n",
    "        # Solve\n",
    "        # ig = np.zeros(nconfigs)\n",
    "        # ig[idx_misdp] = 1.0\n",
    "        # cvxopt.wm.value = ig\n",
    "        cvxopt.solve(solver=solver)\n",
    "\n",
    "        result = cvxopt.result.copy()\n",
    "        wopt = result[\"wm\"]\n",
    "        dual = result[\"dual_wm\"]\n",
    "        print(\"Violation:\", cvxopt.constraints[1].violation())\n",
    "\n",
    "    except Exception:\n",
    "        cvxopt.result = result\n",
    "        break\n",
    "\n",
    "    plt.plot(wopt, label=ii)\n",
    "\n",
    "plt.yscale(\"log\")\n",
    "plt.xticks(range(nconfigs), config_ids, rotation=90)\n",
    "plt.ylabel(\"Weights\")\n",
    "plt.legend(title=\"Iteration\", bbox_to_anchor=(1, 1))\n",
    "plt.show()"
   ]
  },
  {
   "cell_type": "markdown",
   "metadata": {},
   "source": [
    "## Post-processing"
   ]
  },
  {
   "cell_type": "code",
   "execution_count": null,
   "metadata": {
    "ExecuteTime": {
     "end_time": "2024-06-26T15:50:56.758377Z",
     "start_time": "2024-06-26T15:50:56.753788Z"
    },
    "code_folding": [
     0
    ]
   },
   "outputs": [],
   "source": [
    "# # Plot the weights of the last step\n",
    "# plt.figure()\n",
    "# plt.title(f\"Eigenvalue lower bound: {lambda_tol:0.3e}\")\n",
    "# plt.plot(wopt, label=\"weights\")\n",
    "# plt.plot(dual, label=\"dual weights\")\n",
    "# plt.yscale(\"log\")\n",
    "# plt.xticks(range(nconfigs), config_ids, rotation=90)\n",
    "# plt.legend()\n",
    "# plt.show()"
   ]
  },
  {
   "cell_type": "code",
   "execution_count": null,
   "metadata": {
    "ExecuteTime": {
     "end_time": "2024-06-26T15:50:56.773346Z",
     "start_time": "2024-06-26T15:50:56.761171Z"
    }
   },
   "outputs": [],
   "source": [
    "# Get the optimal buses\n",
    "idx_wopt = np.where(wopt > cvx_tol)[0]  # Index to the optimal buses\n",
    "print(\"Optimal buses:\")\n",
    "_ = [print(f'{config_ids[ii]} \\t {wopt[ii]}') for ii in idx_wopt]"
   ]
  },
  {
   "cell_type": "code",
   "execution_count": null,
   "metadata": {
    "ExecuteTime": {
     "end_time": "2024-06-26T15:50:57.360398Z",
     "start_time": "2024-06-26T15:50:56.778741Z"
    }
   },
   "outputs": [],
   "source": [
    "# Test the optimal buses\n",
    "weighted_fims_configs = fim_configs_tensor * wopt.reshape((-1, 1, 1))\n",
    "I = np.sum(weighted_fims_configs[idx_wopt], axis=0)\n",
    "print(\"Eigenvalues:\")\n",
    "print(np.linalg.eigvalsh(I))\n",
    "\n",
    "plt.figure()\n",
    "cbound = np.max([abs(np.min(I)), abs(np.max(I))])\n",
    "plt.imshow(I, cmap=\"bwr\", norm=mpl.colors.SymLogNorm(1e0, vmin=-cbound, vmax=cbound))\n",
    "plt.colorbar()\n",
    "plt.show()"
   ]
  },
  {
   "cell_type": "code",
   "execution_count": null,
   "metadata": {},
   "outputs": [],
   "source": []
  }
 ],
 "metadata": {
  "kernelspec": {
   "display_name": "Python 3 (ipykernel)",
   "language": "python",
   "name": "python3"
  },
  "language_info": {
   "codemirror_mode": {
    "name": "ipython",
    "version": 3
   },
   "file_extension": ".py",
   "mimetype": "text/x-python",
   "name": "python",
   "nbconvert_exporter": "python",
   "pygments_lexer": "ipython3",
   "version": "3.7.4"
  },
  "toc": {
   "base_numbering": 1,
   "nav_menu": {},
   "number_sections": true,
   "sideBar": true,
   "skip_h1_title": false,
   "title_cell": "Table of Contents",
   "title_sidebar": "Contents",
   "toc_cell": false,
   "toc_position": {
    "height": "calc(100% - 180px)",
    "left": "10px",
    "top": "150px",
    "width": "372.364px"
   },
   "toc_section_display": true,
   "toc_window_display": false
  },
  "varInspector": {
   "cols": {
    "lenName": 16,
    "lenType": 16,
    "lenVar": 40
   },
   "kernels_config": {
    "python": {
     "delete_cmd_postfix": "",
     "delete_cmd_prefix": "del ",
     "library": "var_list.py",
     "varRefreshCmd": "print(var_dic_list())"
    },
    "r": {
     "delete_cmd_postfix": ") ",
     "delete_cmd_prefix": "rm(",
     "library": "var_list.r",
     "varRefreshCmd": "cat(var_dic_list()) "
    }
   },
   "types_to_exclude": [
    "module",
    "function",
    "builtin_function_or_method",
    "instance",
    "_Feature"
   ],
   "window_display": false
  }
 },
 "nbformat": 4,
 "nbformat_minor": 2
}
