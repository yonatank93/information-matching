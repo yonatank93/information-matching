{
 "cells": [
  {
   "cell_type": "markdown",
   "metadata": {},
   "source": [
    "In this notebook, we will apply the information-matching method to find the optimal PMU placements that leads to full system observability.\n",
    "The objective is translated to requiring non-singular FIM of the system.\n",
    "In practice, we set the target FIM to be a diagonal matrix, where the diagonal element is set to be some small positive number.\n",
    "By doing this, the eigenvalues of the optimal FIM are larger than this small number, and thus the FIM is non-singular.\n",
    "\n",
    "Details of the calculation:\n",
    "* Model: IEEE 14-bus system\n",
    "* Candidate data: Voltage phasor at each bus\n",
    "* Eigenvalue cutoff: 1e-5"
   ]
  },
  {
   "cell_type": "code",
   "execution_count": null,
   "metadata": {
    "ExecuteTime": {
     "end_time": "2024-06-26T16:08:15.138999Z",
     "start_time": "2024-06-26T16:08:14.189327Z"
    }
   },
   "outputs": [],
   "source": [
    "from pathlib import Path\n",
    "\n",
    "import numpy as np\n",
    "import cvxpy as cp\n",
    "import matplotlib.pyplot as plt\n",
    "\n",
    "from information_matching.convex_optimization import ConvexOpt\n",
    "from information_matching.utils import tol, eps\n",
    "\n",
    "%matplotlib inline\n",
    "plt.style.use(\"default\")"
   ]
  },
  {
   "cell_type": "code",
   "execution_count": null,
   "metadata": {
    "ExecuteTime": {
     "end_time": "2024-06-26T16:08:15.152232Z",
     "start_time": "2024-06-26T16:08:15.143562Z"
    }
   },
   "outputs": [],
   "source": [
    "# Set directories\n",
    "case = 14  # 14-bus case\n",
    "\n",
    "WORK_DIR = Path().absolute()\n",
    "FIM_DIR = WORK_DIR / \"FIMs\""
   ]
  },
  {
   "cell_type": "markdown",
   "metadata": {},
   "source": [
    "# Setup"
   ]
  },
  {
   "cell_type": "code",
   "execution_count": null,
   "metadata": {
    "ExecuteTime": {
     "end_time": "2024-06-26T16:08:15.166521Z",
     "start_time": "2024-06-26T16:08:15.160106Z"
    }
   },
   "outputs": [],
   "source": [
    "# Model information\n",
    "nparams = 2 * case"
   ]
  },
  {
   "cell_type": "code",
   "execution_count": null,
   "metadata": {
    "ExecuteTime": {
     "end_time": "2024-06-26T16:08:15.182542Z",
     "start_time": "2024-06-26T16:08:15.171062Z"
    }
   },
   "outputs": [],
   "source": [
    "# Configurations\n",
    "nconfigs = case\n",
    "configs = np.arange(case) + 1\n",
    "# Identifier of the configurations/data\n",
    "config_ids = np.array([f\"bus{ii}\" for ii in configs])"
   ]
  },
  {
   "cell_type": "code",
   "execution_count": null,
   "metadata": {
    "ExecuteTime": {
     "end_time": "2024-06-26T16:08:15.276461Z",
     "start_time": "2024-06-26T16:08:15.187871Z"
    }
   },
   "outputs": [],
   "source": [
    "# Load configuration FIMs\n",
    "fim_configs_tensor = np.empty((nconfigs, nparams, nparams))\n",
    "for ii, bus in enumerate(configs):\n",
    "    I = np.loadtxt(FIM_DIR / f\"fim_bus{bus}.csv\", delimiter=\",\")\n",
    "    fim_configs_tensor[ii] = I\n",
    "fim_configs_tensor[0].shape"
   ]
  },
  {
   "cell_type": "code",
   "execution_count": null,
   "metadata": {
    "ExecuteTime": {
     "end_time": "2024-06-26T16:08:15.294598Z",
     "start_time": "2024-06-26T16:08:15.281843Z"
    }
   },
   "outputs": [],
   "source": [
    "# Target FIM\n",
    "lambda_tol = 1e-5  # Eigenvalue cutoff\n",
    "fim_target = np.diag(np.ones(nparams)) * lambda_tol\n",
    "print(\"Eigenvalue lower bound:\", lambda_tol)"
   ]
  },
  {
   "cell_type": "markdown",
   "metadata": {},
   "source": [
    "# Convex optimization"
   ]
  },
  {
   "cell_type": "markdown",
   "metadata": {},
   "source": [
    "Additional note:\n",
    "\n",
    "We will perform the optimization iteratively.\n",
    "In each iteration, we scale the weights being optimize by the optimal weights from the previous iteration.\n",
    "By doing so, the objective function in the convex optimization better mimics $\\ell_0$-norm to enforce sparsity."
   ]
  },
  {
   "cell_type": "code",
   "execution_count": null,
   "metadata": {
    "ExecuteTime": {
     "end_time": "2024-06-26T16:08:20.396783Z",
     "start_time": "2024-06-26T16:08:15.308733Z"
    }
   },
   "outputs": [],
   "source": [
    "# Convex optimization\n",
    "# Settings\n",
    "cvx_tol = eps ** 0.75\n",
    "solver = dict(verbose=False, solver=cp.SDPA, epsilonStar=cvx_tol)\n",
    "print(\"Tolerance:\", cvx_tol)\n",
    "\n",
    "plt.figure()\n",
    "wopt = np.ones(nconfigs)  # Initial weights\n",
    "for ii in range(10):\n",
    "    cvxopt = ConvexOpt(\n",
    "        fim_target,\n",
    "        fim_configs_tensor,\n",
    "        np.array(config_ids),\n",
    "        norm={\"weights\": wopt + 1e-15},  # Add some small number for numerical stability\n",
    "        l1norm_obj=True,\n",
    "    )\n",
    "\n",
    "    try:\n",
    "        # Solve\n",
    "        cvxopt.solve(solver=solver)\n",
    "        result = cvxopt.result.copy()\n",
    "        wopt = result[\"wm\"]\n",
    "        dual = result[\"dual_wm\"]\n",
    "        print(\"Violation:\", cvxopt.constraints[1].violation())\n",
    "    except Exception:\n",
    "        cvxopt.result = result\n",
    "        break\n",
    "\n",
    "    plt.plot(wopt, label=ii)\n",
    "\n",
    "plt.yscale(\"log\")\n",
    "plt.xticks(range(nconfigs), config_ids, rotation=90)\n",
    "plt.ylabel(\"Weights\")\n",
    "plt.legend(title=\"Iteration\", bbox_to_anchor=(1, 1))\n",
    "plt.show()"
   ]
  },
  {
   "cell_type": "markdown",
   "metadata": {},
   "source": [
    "## Post-processing"
   ]
  },
  {
   "cell_type": "code",
   "execution_count": null,
   "metadata": {
    "ExecuteTime": {
     "end_time": "2024-06-26T16:08:20.419649Z",
     "start_time": "2024-06-26T16:08:20.404954Z"
    }
   },
   "outputs": [],
   "source": [
    "# Get the optimal buses\n",
    "idx_wopt = cvxopt._get_idx_nonzero_wm(np.sqrt(cvx_tol))  # Index to the optimal buses\n",
    "print(\"Optimal buses:\")\n",
    "_ = [print(f'{config_ids[ii]} \\t {wopt[ii]}') for ii in idx_wopt]"
   ]
  },
  {
   "cell_type": "markdown",
   "metadata": {},
   "source": [
    "Next, let's investigate whether these 3 buses are really sufficient.\n",
    "To do this, we will compute the FIM of the configurations as we add more and more configurations, starting from the most optimal ones.\n",
    "Then, we will compare the smallest eigenvalue of this FIM with the cutoff we set in the target FIM. "
   ]
  },
  {
   "cell_type": "code",
   "execution_count": null,
   "metadata": {
    "ExecuteTime": {
     "end_time": "2024-06-26T16:08:29.769909Z",
     "start_time": "2024-06-26T16:08:20.424969Z"
    }
   },
   "outputs": [],
   "source": [
    "# FIM for each configuration, multiplied by their optimal weights\n",
    "weighted_fims_configs = fim_configs_tensor * wopt.reshape((-1, 1, 1))\n",
    "\n",
    "idx_sort = np.argsort(wopt)[::-1]\n",
    "print(\"Buses sorted by weight magnitude: \\n\", configs[idx_sort])\n",
    "\n",
    "for ii in np.arange(nconfigs) + 1:\n",
    "    idx = idx_sort[:ii]\n",
    "    I = np.sum(weighted_fims_configs[idx], axis=0)\n",
    "    plt.figure()\n",
    "    plt.title(\n",
    "        f\"Using the first {ii} optimal buses \\n \"\n",
    "        + f\"Smallest eigenvalue: {np.min(np.linalg.eigvalsh(I)):0.3e}\"\n",
    "    )\n",
    "    cbound = np.max([-np.min(I), np.max(I)])\n",
    "    plt.imshow(I, vmin=-cbound, vmax=cbound, cmap=\"bwr\")\n",
    "    plt.colorbar()\n",
    "plt.show()"
   ]
  },
  {
   "cell_type": "markdown",
   "metadata": {},
   "source": [
    "Notice that without these 3 optimal configurations, the smallest eigenvalue of the FIM is still lower than the cutoff.\n",
    "However, as we have more than 3 configurations, the smallest eigenvalue doesn't really increase.\n",
    "\n",
    "Note: Even though the smallest eigenvalue listed here when we have 3 or more configurations are smaller than the cutoff, but they are pretty close.\n",
    "We believe this is just numerical artifact."
   ]
  }
 ],
 "metadata": {
  "kernelspec": {
   "display_name": "Python 3 (ipykernel)",
   "language": "python",
   "name": "python3"
  },
  "language_info": {
   "codemirror_mode": {
    "name": "ipython",
    "version": 3
   },
   "file_extension": ".py",
   "mimetype": "text/x-python",
   "name": "python",
   "nbconvert_exporter": "python",
   "pygments_lexer": "ipython3",
   "version": "3.7.4"
  },
  "toc": {
   "base_numbering": 1,
   "nav_menu": {},
   "number_sections": true,
   "sideBar": true,
   "skip_h1_title": false,
   "title_cell": "Table of Contents",
   "title_sidebar": "Contents",
   "toc_cell": false,
   "toc_position": {
    "height": "calc(100% - 180px)",
    "left": "10px",
    "top": "150px",
    "width": "372.364px"
   },
   "toc_section_display": true,
   "toc_window_display": false
  },
  "varInspector": {
   "cols": {
    "lenName": 16,
    "lenType": 16,
    "lenVar": 40
   },
   "kernels_config": {
    "python": {
     "delete_cmd_postfix": "",
     "delete_cmd_prefix": "del ",
     "library": "var_list.py",
     "varRefreshCmd": "print(var_dic_list())"
    },
    "r": {
     "delete_cmd_postfix": ") ",
     "delete_cmd_prefix": "rm(",
     "library": "var_list.r",
     "varRefreshCmd": "cat(var_dic_list()) "
    }
   },
   "types_to_exclude": [
    "module",
    "function",
    "builtin_function_or_method",
    "instance",
    "_Feature"
   ],
   "window_display": false
  }
 },
 "nbformat": 4,
 "nbformat_minor": 2
}
