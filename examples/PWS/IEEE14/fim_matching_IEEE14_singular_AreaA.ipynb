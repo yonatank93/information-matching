{
 "cells": [
  {
   "cell_type": "markdown",
   "metadata": {},
   "source": [
    "This notebook is a continuation of the `fim_matching_IEEE14.ipynb`.\n",
    "Here, we will only look at some area in the network.\n",
    "Following the paper by Transtrum et al. (https://ieeexplore.ieee.org/abstract/document/8586586), we will consider the area A, consisting of buses 3, 4, 7, 8, and 9."
   ]
  },
  {
   "cell_type": "code",
   "execution_count": 1,
   "metadata": {
    "ExecuteTime": {
     "end_time": "2024-08-10T15:03:18.519394Z",
     "start_time": "2024-08-10T15:03:18.005831Z"
    }
   },
   "outputs": [],
   "source": [
    "from pathlib import Path\n",
    "import json\n",
    "\n",
    "import numpy as np\n",
    "import cvxpy as cp\n",
    "import matplotlib.pyplot as plt\n",
    "\n",
    "from information_matching.convex_optimization import ConvexOpt\n",
    "from information_matching.utils import tol, eps\n",
    "\n",
    "%matplotlib inline\n",
    "plt.style.use(\"default\")"
   ]
  },
  {
   "cell_type": "code",
   "execution_count": 2,
   "metadata": {
    "ExecuteTime": {
     "end_time": "2024-08-10T15:03:18.527412Z",
     "start_time": "2024-08-10T15:03:18.522816Z"
    }
   },
   "outputs": [],
   "source": [
    "# Set directories\n",
    "case = 14  # 14-bus case\n",
    "\n",
    "WORK_DIR = Path().absolute()\n",
    "FIM_DIR = WORK_DIR / \"FIMs\"\n",
    "DATA_DIR = WORK_DIR / \"models\" / \"data\""
   ]
  },
  {
   "cell_type": "markdown",
   "metadata": {},
   "source": [
    "# Setup"
   ]
  },
  {
   "cell_type": "markdown",
   "metadata": {},
   "source": [
    "First, remember that we only want to make measurement of the buses in the area and we only care about the observability of these buses."
   ]
  },
  {
   "cell_type": "code",
   "execution_count": 3,
   "metadata": {
    "ExecuteTime": {
     "end_time": "2024-08-10T15:03:18.540218Z",
     "start_time": "2024-08-10T15:03:18.531497Z"
    }
   },
   "outputs": [],
   "source": [
    "# Load the area data, which contains information about which buses in the area\n",
    "with open(DATA_DIR / \"area_partition.json\", \"r\") as f:\n",
    "    area_dict = json.load(f)\n",
    "\n",
    "area = \"AreaA\"\n",
    "buses_area = area_dict[area]"
   ]
  },
  {
   "cell_type": "code",
   "execution_count": 4,
   "metadata": {
    "ExecuteTime": {
     "end_time": "2024-08-10T15:03:18.551148Z",
     "start_time": "2024-08-10T15:03:18.543767Z"
    }
   },
   "outputs": [],
   "source": [
    "# Model information\n",
    "nparams = 2 * case"
   ]
  },
  {
   "cell_type": "code",
   "execution_count": 5,
   "metadata": {
    "ExecuteTime": {
     "end_time": "2024-08-10T15:03:18.582247Z",
     "start_time": "2024-08-10T15:03:18.554577Z"
    }
   },
   "outputs": [
    {
     "data": {
      "text/plain": [
       "array(['bus3', 'bus4', 'bus7', 'bus8', 'bus9'], dtype='<U4')"
      ]
     },
     "execution_count": 5,
     "metadata": {},
     "output_type": "execute_result"
    }
   ],
   "source": [
    "# Configurations\n",
    "nconfigs = len(buses_area)\n",
    "configs = buses_area\n",
    "config_ids = np.array([f\"bus{ii}\" for ii in configs])\n",
    "config_ids"
   ]
  },
  {
   "cell_type": "code",
   "execution_count": 6,
   "metadata": {
    "ExecuteTime": {
     "end_time": "2024-08-10T15:03:18.605765Z",
     "start_time": "2024-08-10T15:03:18.585026Z"
    }
   },
   "outputs": [
    {
     "data": {
      "text/plain": [
       "(28, 28)"
      ]
     },
     "execution_count": 6,
     "metadata": {},
     "output_type": "execute_result"
    }
   ],
   "source": [
    "# Load configuration FIMs\n",
    "# Note that each candidate bus still measure the voltage phasor for all connected\n",
    "# buses, even outside the area of interest.\n",
    "fim_configs_tensor = np.empty((nconfigs, nparams, nparams))\n",
    "for ii, bus in enumerate(configs):\n",
    "    J = np.load(FIM_DIR / f\"jacobian_bus{bus}.npy\")\n",
    "    I = J.T @ J\n",
    "    fim_configs_tensor[ii] = I\n",
    "# Scaling factor to help the convex optimization\n",
    "norm = max(np.linalg.norm(fim_configs_tensor, axis=(1, 2)))\n",
    "fim_configs_tensor[0].shape"
   ]
  },
  {
   "cell_type": "code",
   "execution_count": 7,
   "metadata": {
    "ExecuteTime": {
     "end_time": "2024-08-10T15:03:18.619672Z",
     "start_time": "2024-08-10T15:03:18.608939Z"
    }
   },
   "outputs": [
    {
     "name": "stdout",
     "output_type": "stream",
     "text": [
      "Eigenvalue lower bound: 1e-05\n"
     ]
    }
   ],
   "source": [
    "# Target FIM\n",
    "# Index of the parameters for observation within the area\n",
    "idx_buses = np.array(buses_area) - 1  # buses zero-based index\n",
    "idx_params = np.sort(np.append(2 * idx_buses, 2 * idx_buses + 1))\n",
    "\n",
    "lambda_tol = 1e-5  # Eigenvalue cutoff\n",
    "fim_target = np.diag(np.zeros(nparams))\n",
    "fim_target[idx_params, idx_params] = np.ones_like(idx_params) * lambda_tol\n",
    "print(\"Eigenvalue lower bound:\", lambda_tol)"
   ]
  },
  {
   "cell_type": "markdown",
   "metadata": {},
   "source": [
    "# Convex optimization"
   ]
  },
  {
   "cell_type": "markdown",
   "metadata": {},
   "source": [
    "Additional note:\n",
    "\n",
    "We will perform the optimization iteratively.\n",
    "In each iteration, we scale the weights being optimize by the optimal weights from the previous iteration.\n",
    "By doing so, the objective function in the convex optimization better mimics $\\ell_0$-norm to enforce sparsity."
   ]
  },
  {
   "cell_type": "code",
   "execution_count": 8,
   "metadata": {
    "ExecuteTime": {
     "end_time": "2024-08-10T15:03:18.638320Z",
     "start_time": "2024-08-10T15:03:18.629915Z"
    }
   },
   "outputs": [],
   "source": [
    "# Construct the input FIMs\n",
    "# FIM target is fine, because we only apply scale 1.0\n",
    "# FIM configs\n",
    "fim_configs = {}\n",
    "for ii, identifier in enumerate(config_ids):\n",
    "    fim_configs.update(\n",
    "        {identifier: {\"fim\": fim_configs_tensor[ii], \"fim_scale\": 1 / norm}}\n",
    "    )"
   ]
  },
  {
   "cell_type": "code",
   "execution_count": 9,
   "metadata": {
    "ExecuteTime": {
     "end_time": "2024-08-10T15:03:18.652384Z",
     "start_time": "2024-08-10T15:03:18.641225Z"
    }
   },
   "outputs": [],
   "source": [
    "# Before running the optimization, we have performed similar calculation, but with\n",
    "# Mixed-integer semi-definite programming (MISDP) problem in Matlab. That result can\n",
    "# be used as an initial guess to speed up the calculation here. As suppose to the\n",
    "# MISDP version of the method, the regular SDP version can find continuous values.\n",
    "opt_buses_misdp = np.loadtxt(\n",
    "    WORK_DIR / \"data\" / \"misdp_optimal_buses_areaA.txt\", delimiter=\",\", dtype=int\n",
    ")\n",
    "try:\n",
    "    len(opt_buses_misdp)\n",
    "except TypeError:  # There is only 1 bus, not a list\n",
    "    opt_buses_misdp = [opt_buses_misdp]\n",
    "opt_buses_misdp_idx = [configs.index(val) for val in opt_buses_misdp]"
   ]
  },
  {
   "cell_type": "code",
   "execution_count": 10,
   "metadata": {
    "ExecuteTime": {
     "end_time": "2024-08-10T15:03:21.424520Z",
     "start_time": "2024-08-10T15:03:18.655630Z"
    }
   },
   "outputs": [
    {
     "name": "stdout",
     "output_type": "stream",
     "text": [
      "Tolerance: 1.8189894035458565e-12\n",
      "Step length is too small.  :: line 198 in sdpa_dataset.cpp\n",
      "cannot move: step length is too short :: line 190 in sdpa_solve.cpp\n",
      "Violation: 2.40936348838841e-08\n"
     ]
    },
    {
     "name": "stderr",
     "output_type": "stream",
     "text": [
      "/home/byu.local/yonatank/.local/lib/python3.7/site-packages/cvxpy/problems/problem.py:1388: UserWarning: Solution may be inaccurate. Try another solver, adjusting the solver settings, or solve with verbose=True for more information.\n",
      "  \"Solution may be inaccurate. Try another solver, \"\n"
     ]
    },
    {
     "name": "stdout",
     "output_type": "stream",
     "text": [
      "Step length is too small.  :: line 198 in sdpa_dataset.cpp\n",
      "cannot move: step length is too short :: line 190 in sdpa_solve.cpp\n",
      "Violation: 4.446522108814139e-08\n",
      "Step length is too small.  :: line 198 in sdpa_dataset.cpp\n",
      "cannot move: step length is too short :: line 190 in sdpa_solve.cpp\n",
      "Violation: 4.459959821978344e-08\n",
      "Step length is too small.  :: line 198 in sdpa_dataset.cpp\n",
      "cannot move: step length is too short :: line 190 in sdpa_solve.cpp\n",
      "Violation: 4.460048289958498e-08\n",
      "Step length is too small.  :: line 198 in sdpa_dataset.cpp\n",
      "cannot move: step length is too short :: line 190 in sdpa_solve.cpp\n",
      "Violation: 4.460048872893612e-08\n",
      "Step length is too small.  :: line 198 in sdpa_dataset.cpp\n",
      "cannot move: step length is too short :: line 190 in sdpa_solve.cpp\n",
      "Violation: 4.4600488753966684e-08\n",
      "Step length is too small.  :: line 198 in sdpa_dataset.cpp\n",
      "cannot move: step length is too short :: line 190 in sdpa_solve.cpp\n",
      "Violation: 4.460048876235451e-08\n",
      "Step length is too small.  :: line 198 in sdpa_dataset.cpp\n",
      "cannot move: step length is too short :: line 190 in sdpa_solve.cpp\n",
      "Violation: 4.460048875089657e-08\n",
      "Step length is too small.  :: line 198 in sdpa_dataset.cpp\n",
      "cannot move: step length is too short :: line 190 in sdpa_solve.cpp\n",
      "Violation: 4.46004887561918e-08\n",
      "Step length is too small.  :: line 198 in sdpa_dataset.cpp\n",
      "cannot move: step length is too short :: line 190 in sdpa_solve.cpp\n",
      "Violation: 4.460048877005136e-08\n",
      "Optimal value: 1.0000000000001175\n"
     ]
    },
    {
     "data": {
      "image/png": "[encoded data removed]",
      "text/plain": [
       "<Figure size 640x480 with 1 Axes>"
      ]
     },
     "metadata": {},
     "output_type": "display_data"
    }
   ],
   "source": [
    "# Convex optimization\n",
    "# Settings\n",
    "cvx_tol = eps ** 0.75\n",
    "solver = dict(verbose=False, solver=cp.SDPA, epsilonStar=cvx_tol)\n",
    "print(\"Tolerance:\", cvx_tol)\n",
    "\n",
    "plt.figure()\n",
    "# Use the MISDP result as an initial guess\n",
    "wopt = np.zeros(nconfigs)\n",
    "wopt[opt_buses_misdp_idx] = 1.0\n",
    "for ii in range(10):\n",
    "    # Update the weight scales\n",
    "    for jj, identifier in enumerate(config_ids):\n",
    "        # Add weight scale information,aAdd some small number for numerical stability\n",
    "        fim_configs[identifier].update({\"weight_scale\": 1 / (wopt[jj] + 1e-15)})\n",
    "    cvxopt = ConvexOpt(fim_target, fim_configs, l1norm_obj=True)\n",
    "\n",
    "    try:\n",
    "        # Solve\n",
    "        cvxopt.solve(solver=solver)\n",
    "        result = cvxopt.result.copy()\n",
    "        wopt = result[\"wm\"]\n",
    "        dual = result[\"dual_wm\"]\n",
    "        print(\"Violation:\", cvxopt.constraints[1].violation())\n",
    "    except Exception:\n",
    "        cvxopt.result = result\n",
    "        break\n",
    "\n",
    "    plt.plot(wopt, label=ii)\n",
    "    \n",
    "print(\"Optimal value:\", result[\"value\"])\n",
    "\n",
    "plt.yscale(\"log\")\n",
    "plt.xticks(range(nconfigs), config_ids, rotation=90)\n",
    "plt.ylabel(\"Weights\")\n",
    "plt.legend(title=\"Iteration\", bbox_to_anchor=(1, 1))\n",
    "plt.show()"
   ]
  },
  {
   "cell_type": "markdown",
   "metadata": {},
   "source": [
    "## Post-processing"
   ]
  },
  {
   "cell_type": "code",
   "execution_count": 11,
   "metadata": {
    "ExecuteTime": {
     "end_time": "2024-08-10T15:03:21.436768Z",
     "start_time": "2024-08-10T15:03:21.428165Z"
    }
   },
   "outputs": [
    {
     "name": "stdout",
     "output_type": "stream",
     "text": [
      "Optimal buses:\n",
      "bus4 \t 0.09431376977645363\n"
     ]
    }
   ],
   "source": [
    "# Get the optimal buses\n",
    "idx_wopt = cvxopt._get_idx_nonzero_wm(np.sqrt(cvx_tol))  # Index to the optimal buse`s\n",
    "print(\"Optimal buses:\")\n",
    "_ = [print(f'{config_ids[ii]} \\t {wopt[ii]}') for ii in idx_wopt]"
   ]
  },
  {
   "cell_type": "code",
   "execution_count": 12,
   "metadata": {
    "ExecuteTime": {
     "end_time": "2024-08-10T15:03:21.754041Z",
     "start_time": "2024-08-10T15:03:21.440077Z"
    }
   },
   "outputs": [
    {
     "name": "stdout",
     "output_type": "stream",
     "text": [
      "Eigenvalues:\n",
      "[0.00000000e+00 0.00000000e+00 0.00000000e+00 0.00000000e+00\n",
      " 0.00000000e+00 0.00000000e+00 0.00000000e+00 0.00000000e+00\n",
      " 0.00000000e+00 0.00000000e+00 0.00000000e+00 0.00000000e+00\n",
      " 9.12098245e-17 1.00693960e-16 1.29669052e-02 1.36279964e-02\n",
      " 6.89947462e-02 8.01631125e-02 1.07323310e+00 1.17276370e+00\n",
      " 2.76561294e+00 2.91943723e+00 5.78886249e+00 6.06872664e+00\n",
      " 4.86593676e+01 5.46802105e+01 1.03821493e+02 1.08162465e+02]\n"
     ]
    },
    {
     "data": {
      "image/png": "[encoded data removed]",
      "text/plain": [
       "<Figure size 640x480 with 2 Axes>"
      ]
     },
     "metadata": {},
     "output_type": "display_data"
    }
   ],
   "source": [
    "# Plot the optimal configuration FIM\n",
    "weighted_fims_configs = fim_configs_tensor * wopt.reshape((-1, 1, 1))\n",
    "I = np.sum(weighted_fims_configs[idx_wopt], axis=0)\n",
    "print(\"Eigenvalues:\")\n",
    "print(np.linalg.eigvalsh(I))\n",
    "\n",
    "plt.figure()\n",
    "cbound = np.max([abs(np.min(I)), abs(np.max(I))])\n",
    "plt.imshow(I, vmin=-cbound, vmax=cbound, cmap=\"bwr\")\n",
    "plt.colorbar()\n",
    "plt.show()"
   ]
  },
  {
   "cell_type": "code",
   "execution_count": null,
   "metadata": {},
   "outputs": [],
   "source": []
  }
 ],
 "metadata": {
  "kernelspec": {
   "display_name": "Python 3 (ipykernel)",
   "language": "python",
   "name": "python3"
  },
  "language_info": {
   "codemirror_mode": {
    "name": "ipython",
    "version": 3
   },
   "file_extension": ".py",
   "mimetype": "text/x-python",
   "name": "python",
   "nbconvert_exporter": "python",
   "pygments_lexer": "ipython3",
   "version": "3.7.4"
  },
  "toc": {
   "base_numbering": 1,
   "nav_menu": {},
   "number_sections": true,
   "sideBar": true,
   "skip_h1_title": false,
   "title_cell": "Table of Contents",
   "title_sidebar": "Contents",
   "toc_cell": false,
   "toc_position": {
    "height": "calc(100% - 180px)",
    "left": "10px",
    "top": "150px",
    "width": "372.364px"
   },
   "toc_section_display": true,
   "toc_window_display": false
  },
  "varInspector": {
   "cols": {
    "lenName": 16,
    "lenType": 16,
    "lenVar": 40
   },
   "kernels_config": {
    "python": {
     "delete_cmd_postfix": "",
     "delete_cmd_prefix": "del ",
     "library": "var_list.py",
     "varRefreshCmd": "print(var_dic_list())"
    },
    "r": {
     "delete_cmd_postfix": ") ",
     "delete_cmd_prefix": "rm(",
     "library": "var_list.r",
     "varRefreshCmd": "cat(var_dic_list()) "
    }
   },
   "types_to_exclude": [
    "module",
    "function",
    "builtin_function_or_method",
    "instance",
    "_Feature"
   ],
   "window_display": false
  }
 },
 "nbformat": 4,
 "nbformat_minor": 2
}
