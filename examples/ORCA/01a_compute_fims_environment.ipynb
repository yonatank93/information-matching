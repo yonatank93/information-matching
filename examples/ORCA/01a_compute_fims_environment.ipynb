{
 "cells": [
  {
   "cell_type": "markdown",
   "metadata": {},
   "source": [
    "The primary purpose of this notebook is to compute the FIM for each configuration with respect to the environmental parameters.\n",
    "A configuration is defined by the source range and receiver depth.\n",
    "This is equivalent to specifying the location (range and depth) of the receiver from the source.\n",
    "\n",
    "**Disclaimer:** This calculation requires `uwlib` and `fimpack`, which are proprietary modules developed at BYU.\n",
    "\n",
    "I will try to make this notebook accessible for those who don't have access to these packages, by exporting what I calculated and include them in this repo.\n",
    "However, the calculation to generate the FIM data will also be included here."
   ]
  },
  {
   "cell_type": "code",
   "execution_count": null,
   "metadata": {
    "ExecuteTime": {
     "end_time": "2024-10-22T15:25:16.437930Z",
     "start_time": "2024-10-22T15:25:15.469161Z"
    }
   },
   "outputs": [],
   "source": [
    "from pathlib import Path\n",
    "import os\n",
    "import tarfile\n",
    "import itertools\n",
    "\n",
    "import numpy as np\n",
    "\n",
    "# import uwlib\n",
    "# from fimpack import (\n",
    "#     orca_manager,\n",
    "#     param_conditioning,\n",
    "#     matrix_manager,\n",
    "#     derivative_analysis,\n",
    "# )\n",
    "from information_matching.utils import set_directory"
   ]
  },
  {
   "cell_type": "code",
   "execution_count": null,
   "metadata": {
    "ExecuteTime": {
     "end_time": "2024-10-22T15:25:16.453361Z",
     "start_time": "2024-10-22T15:25:16.443667Z"
    }
   },
   "outputs": [],
   "source": [
    "# Setting up directories\n",
    "WORK_DIR = Path().absolute()\n",
    "DATA_DIR = WORK_DIR / \"data\"\n",
    "SVP_DIR = DATA_DIR / \"svp\""
   ]
  },
  {
   "cell_type": "code",
   "execution_count": null,
   "metadata": {
    "ExecuteTime": {
     "end_time": "2024-10-22T15:25:16.477013Z",
     "start_time": "2024-10-22T15:25:16.462178Z"
    }
   },
   "outputs": [],
   "source": [
    "# To help those who don't have access to uwlib and fimpack, let's try to get the\n",
    "# FIM with respect to the environmental parameters from the tarball that I generated.\n",
    "FIM_DIR = DATA_DIR / \"FIMs\" / \"environment\"\n",
    "tarball = FIM_DIR.parent / \"fim_environment.tar.gz\"\n",
    "\n",
    "if not FIM_DIR.exists():\n",
    "    # Check if tarball exists. If it does, then extract.\n",
    "    if tarball.exists():\n",
    "        os.chdir(FIM_DIR.parent)  # Entering the FIM directory\n",
    "        # Extracting the tarball\n",
    "        with tarfile.open(tarball.name) as f:\n",
    "            f.extractall()\n",
    "        os.chdir(WORK_DIR)  # Exiting FIM directory, go back to the previous path\n",
    "    else:\n",
    "        # There is no FIM data. This is mainly for me to generate the data.\n",
    "        FIM_DIR.mkdir()"
   ]
  },
  {
   "cell_type": "code",
   "execution_count": null,
   "metadata": {
    "ExecuteTime": {
     "end_time": "2024-10-22T15:25:16.493992Z",
     "start_time": "2024-10-22T15:25:16.482239Z"
    }
   },
   "outputs": [],
   "source": [
    "# List of TOML files\n",
    "opt_toml_file = DATA_DIR / \"FIM_opt.toml\"\n",
    "# Sound profile files\n",
    "sediment_type_list = [\"mud\", \"clay\", \"silt\", \"sand\", \"gravel\"]\n",
    "svp_toml_path_dict = {\n",
    "    sed: SVP_DIR / f\"svp_{sed}_35m_unit_test.toml\" for sed in sediment_type_list\n",
    "}\n",
    "# List of sound source frequencies\n",
    "freq_list = [50, 100, 200, 400]  # In Hz"
   ]
  },
  {
   "cell_type": "markdown",
   "metadata": {},
   "source": [
    "The receiver depth values are the same as what's used in Michael's paper.\n",
    "The source (or receiver) range is set up equally spaced from 1 km to 5 km, every 200 m.\n",
    "Not that I just chose these numbers arbitrarily.\n",
    "In Michael's paper, he only used 1 source range value, that is 3 km."
   ]
  },
  {
   "cell_type": "code",
   "execution_count": null,
   "metadata": {
    "ExecuteTime": {
     "end_time": "2024-10-22T15:25:16.509529Z",
     "start_time": "2024-10-22T15:25:16.499287Z"
    }
   },
   "outputs": [],
   "source": [
    "# Source depth, receiver depth, and receiver range\n",
    "source_range = np.linspace(1, 5, 21)\n",
    "source_depth = np.array([8, 16])\n",
    "receiver_depth = np.arange(5, 76, 5)"
   ]
  },
  {
   "cell_type": "markdown",
   "metadata": {},
   "source": [
    "# Compute FIM for each configuration"
   ]
  },
  {
   "cell_type": "code",
   "execution_count": null,
   "metadata": {
    "ExecuteTime": {
     "end_time": "2024-10-22T15:25:16.527940Z",
     "start_time": "2024-10-22T15:25:16.514939Z"
    }
   },
   "outputs": [],
   "source": [
    "configs = list(itertools.product(source_range, receiver_depth))\n",
    "print(\"Number of configurations:\", len(configs))"
   ]
  },
  {
   "cell_type": "code",
   "execution_count": null,
   "metadata": {
    "ExecuteTime": {
     "end_time": "2024-10-22T15:25:19.519354Z",
     "start_time": "2024-10-22T15:25:16.534017Z"
    }
   },
   "outputs": [],
   "source": [
    "for sediment_type in sediment_type_list:\n",
    "    # Iterate over the sediment layer types\n",
    "    svp_toml_file = svp_toml_path_dict[sediment_type]\n",
    "    print(\"Sediment:\", sediment_type)\n",
    "\n",
    "    FIM_SED_DIR = set_directory(FIM_DIR / sediment_type)\n",
    "\n",
    "    for freq in freq_list:\n",
    "        # Iterate over the frequencies\n",
    "        print(\"Frequency:\", freq, \"Hz\")\n",
    "        \n",
    "        # There is one case that gave me issue, which is gravel at 100 Hz. So, we will\n",
    "        # skip FIM calculation for this case.\n",
    "        if sediment_type=='gravel' and freq==100:\n",
    "            continue\n",
    "\n",
    "        FIM_SED_FREQ_DIR = set_directory(FIM_SED_DIR / f\"f{int(freq)}Hz\")\n",
    "        for ii, conf in enumerate(configs):\n",
    "            # Iterate over configuration\n",
    "            sr, rd = conf\n",
    "            rd = [rd]\n",
    "            print(f\"{ii}: Source range: {sr:0.1f} km, Receiver depth: {int(rd[0])} m\")\n",
    "\n",
    "            fim_file_path = FIM_SED_FREQ_DIR / f\"config_{ii}.npz\"\n",
    "            if not fim_file_path.exists():\n",
    "                # Initialize ORCA\n",
    "                orca = orca_manager.initialize_orca(\n",
    "                    freq, str(svp_toml_file), str(opt_toml_file)\n",
    "                )\n",
    "\n",
    "                # Compute derivative of transmission loss wrt Green's function\n",
    "                TL, n_modes, gf = uwlib.tl.calc_tl_from_orca(\n",
    "                    orca, freq, sr, source_depth, rd, return_gf=True, return_nmode=True\n",
    "                )\n",
    "                gf = np.abs(gf)\n",
    "                gf = np.squeeze(gf.flatten())\n",
    "                J_TL = np.diag(20 * np.log10(np.exp(1)) / gf)\n",
    "\n",
    "                # Parameter preconditioning\n",
    "                x_dict, num_layers = orca_manager.get_x_dict(orca)\n",
    "                scale_dict = param_conditioning.get_x_to_theta_scale_dict(\n",
    "                    orca, x_dict, freq, sr\n",
    "                )\n",
    "                theta_dict = param_conditioning.scale_x_to_theta(\n",
    "                    x_dict, scale_dict, frequency=freq\n",
    "                )\n",
    "                # Apparently, we can only use 1 source range value for this preconditioning. If we have\n",
    "                # multiple source range values, I guess we should loop over each value.\n",
    "                active_labels_list, theta_vector = param_conditioning.get_active_labels(\n",
    "                    theta_dict\n",
    "                )\n",
    "                theta_labels = active_labels_list\n",
    "                (\n",
    "                    phi,\n",
    "                    phi_flags,\n",
    "                    x_hold_constant_values,\n",
    "                ) = param_conditioning.theta_to_phi(\n",
    "                    active_labels_list, custom_parameterization=\"n\"\n",
    "                )\n",
    "                # Derivative of phi wrt theta\n",
    "                dphi_dtheta = matrix_manager.calculate_dphi_dtheta(\n",
    "                    theta_vector, theta_labels, phi\n",
    "                )\n",
    "\n",
    "                # Initialize derivative result storage\n",
    "                result_storage = derivative_analysis.Deriv_Results(freq, sediment_type)\n",
    "\n",
    "                # Derivative of Green's function wrt phi\n",
    "                jacobian_theta = matrix_manager.construct_jacobian(\n",
    "                    theta_vector,\n",
    "                    theta_labels,\n",
    "                    orca,\n",
    "                    scale_dict,\n",
    "                    phi_flags,\n",
    "                    dphi_dtheta,\n",
    "                    freq,\n",
    "                    sr,\n",
    "                    source_depth,\n",
    "                    rd,\n",
    "                    num_layers,\n",
    "                    result_storage,\n",
    "                )\n",
    "\n",
    "                # Derivative of the transmission loss wrt theta\n",
    "                # Note: theta in the function name is phi in the paper and x in the\n",
    "                # function name is theta in the paper.\n",
    "                jacobian = matrix_manager.J_theta_to_J_x(\n",
    "                    jacobian_theta, J_TL, theta_labels, scale_dict, freq\n",
    "                )\n",
    "                # Note: This transformation already assume that the derivative is taken\n",
    "                # wrt log parameters\n",
    "                fim = jacobian.T @ jacobian\n",
    "\n",
    "                # Export\n",
    "                np.savez(fim_file_path, jacobian=jacobian, fim=fim)"
   ]
  },
  {
   "cell_type": "code",
   "execution_count": null,
   "metadata": {
    "ExecuteTime": {
     "end_time": "2024-10-22T15:25:19.560649Z",
     "start_time": "2024-10-22T15:25:19.537224Z"
    }
   },
   "outputs": [],
   "source": [
    "# # Create a tarball\n",
    "# if not tarball.exists():\n",
    "#     os.chdir(FIM_DIR.parent)  # Entering the FIM directory\n",
    "#     # Creating a tarball\n",
    "#     with tarfile.open(tarball.name, \"w:gz\") as tar:\n",
    "#         tar.add(FIM_DIR.name)\n",
    "#     os.chdir(WORK_DIR)  # Exiting the FIM directory, go back to the previous path"
   ]
  },
  {
   "cell_type": "code",
   "execution_count": null,
   "metadata": {},
   "outputs": [],
   "source": []
  }
 ],
 "metadata": {
  "kernelspec": {
   "display_name": "Python 3 (ipykernel)",
   "language": "python",
   "name": "python3"
  },
  "language_info": {
   "codemirror_mode": {
    "name": "ipython",
    "version": 3
   },
   "file_extension": ".py",
   "mimetype": "text/x-python",
   "name": "python",
   "nbconvert_exporter": "python",
   "pygments_lexer": "ipython3",
   "version": "3.7.4"
  },
  "toc": {
   "base_numbering": 1,
   "nav_menu": {},
   "number_sections": true,
   "sideBar": true,
   "skip_h1_title": false,
   "title_cell": "Table of Contents",
   "title_sidebar": "Contents",
   "toc_cell": false,
   "toc_position": {},
   "toc_section_display": true,
   "toc_window_display": false
  },
  "varInspector": {
   "cols": {
    "lenName": 16,
    "lenType": 16,
    "lenVar": 40
   },
   "kernels_config": {
    "python": {
     "delete_cmd_postfix": "",
     "delete_cmd_prefix": "del ",
     "library": "var_list.py",
     "varRefreshCmd": "print(var_dic_list())"
    },
    "r": {
     "delete_cmd_postfix": ") ",
     "delete_cmd_prefix": "rm(",
     "library": "var_list.r",
     "varRefreshCmd": "cat(var_dic_list()) "
    }
   },
   "types_to_exclude": [
    "module",
    "function",
    "builtin_function_or_method",
    "instance",
    "_Feature"
   ],
   "window_display": false
  }
 },
 "nbformat": 4,
 "nbformat_minor": 2
}
