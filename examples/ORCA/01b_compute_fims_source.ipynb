{
 "cells": [
  {
   "cell_type": "markdown",
   "metadata": {},
   "source": [
    "The primary purpose of this notebook is to compute the FIM for each configuration with respect to the sources locations.\n",
    "A configuration is defined by the source range and receiver depth.\n",
    "This is equivalent to specifying the location (range and depth) of the receiver from the source.\n",
    "\n",
    "**Disclaimer:** This calculation requires `uwlib` and `fimpack`, which are proprietary modules developed at BYU.\n",
    "\n",
    "I will try to make this notebook accessible for those who don't have access to these packages, by exporting what I calculated and include them in this repo.\n",
    "However, the calculation to generate the FIM data will also be included here."
   ]
  },
  {
   "cell_type": "code",
   "execution_count": null,
   "metadata": {
    "ExecuteTime": {
     "end_time": "2024-10-22T15:27:12.207651Z",
     "start_time": "2024-10-22T15:27:12.198395Z"
    }
   },
   "outputs": [],
   "source": [
    "from pathlib import Path\n",
    "import os\n",
    "import tarfile\n",
    "import itertools\n",
    "\n",
    "import numpy as np\n",
    "import numdifftools as nd\n",
    "\n",
    "# import uwlib\n",
    "# from fimpack import (\n",
    "#     orca_manager,\n",
    "#     param_conditioning,\n",
    "#     matrix_manager,\n",
    "#     derivative_analysis,\n",
    "# )\n",
    "from information_matching.utils import set_directory"
   ]
  },
  {
   "cell_type": "code",
   "execution_count": null,
   "metadata": {
    "ExecuteTime": {
     "end_time": "2024-10-22T15:27:12.230319Z",
     "start_time": "2024-10-22T15:27:12.211520Z"
    }
   },
   "outputs": [],
   "source": [
    "# Setting up directories\n",
    "WORK_DIR = Path().absolute()\n",
    "DATA_DIR = WORK_DIR / \"data\"\n",
    "SVP_DIR = DATA_DIR / \"svp\""
   ]
  },
  {
   "cell_type": "code",
   "execution_count": null,
   "metadata": {
    "ExecuteTime": {
     "end_time": "2024-10-22T15:27:12.246379Z",
     "start_time": "2024-10-22T15:27:12.235365Z"
    }
   },
   "outputs": [],
   "source": [
    "# To help those who don't have access to uwlib and fimpack, let's try to get the\n",
    "# FIM with respect to the sourceal parameters from the tarball that I generated.\n",
    "FIM_DIR = DATA_DIR / \"FIMs\" / \"source\"\n",
    "tarball = FIM_DIR.parent / \"fim_source.tar.gz\"\n",
    "\n",
    "if not FIM_DIR.exists():\n",
    "    # Check if tarball exists. If it does, then extract.\n",
    "    if tarball.exists():\n",
    "        os.chdir(FIM_DIR.parent)  # Entering the FIM directory\n",
    "        # Extracting the tarball\n",
    "        with tarfile.open(tarball.name) as f:\n",
    "            f.extractall()\n",
    "        os.chdir(WORK_DIR)  # Exiting FIM directory, go back to the previous path\n",
    "    else:\n",
    "        # There is no FIM data. This is mainly for me to generate the data.\n",
    "        FIM_DIR.mkdir()"
   ]
  },
  {
   "cell_type": "code",
   "execution_count": null,
   "metadata": {
    "ExecuteTime": {
     "end_time": "2024-10-22T15:27:12.265278Z",
     "start_time": "2024-10-22T15:27:12.249678Z"
    }
   },
   "outputs": [],
   "source": [
    "# List of TOML files\n",
    "opt_toml_file = DATA_DIR / \"FIM_opt.toml\"\n",
    "# Sound profile files\n",
    "sediment_type_list = [\"mud\", \"clay\", \"silt\", \"sand\", \"gravel\"]\n",
    "svp_toml_path_dict = {\n",
    "    sed: SVP_DIR / f\"svp_{sed}_35m_unit_test.toml\" for sed in sediment_type_list\n",
    "}\n",
    "# List of sound source frequencies\n",
    "freq_list = [50, 100, 200, 400]  # In Hz"
   ]
  },
  {
   "cell_type": "markdown",
   "metadata": {},
   "source": [
    "The receiver depth values are the same as what's used in Michael's paper.\n",
    "The source (or receiver) range is set up equally spaced from 1 km to 5 km, every 200 m.\n",
    "Note that I just chose these numbers arbitrarily.\n",
    "In Michael's paper, he only used 1 source range value, that is 3 km."
   ]
  },
  {
   "cell_type": "code",
   "execution_count": null,
   "metadata": {
    "ExecuteTime": {
     "end_time": "2024-10-22T15:27:12.279627Z",
     "start_time": "2024-10-22T15:27:12.269052Z"
    }
   },
   "outputs": [],
   "source": [
    "# Source depth, receiver depth, and receiver range\n",
    "source_range = np.linspace(1, 5, 21)\n",
    "source_depth = np.array([8, 16])\n",
    "receiver_depth = np.arange(5, 76, 5)"
   ]
  },
  {
   "cell_type": "markdown",
   "metadata": {},
   "source": [
    "# Compute the FIMs"
   ]
  },
  {
   "cell_type": "markdown",
   "metadata": {},
   "source": [
    "To compute the Jacobian with respect to source depth and range, we will use numerical derivative via `numdifftools`.\n",
    "We will use the following functions with `numdifftools`."
   ]
  },
  {
   "cell_type": "code",
   "execution_count": null,
   "metadata": {
    "ExecuteTime": {
     "end_time": "2024-10-22T15:27:12.303194Z",
     "start_time": "2024-10-22T15:27:12.283433Z"
    }
   },
   "outputs": [],
   "source": [
    "def TL_wrapper(source_depth, source_range, receiver_depth, orca, freq, flatten=False):\n",
    "    \"\"\"This is a wrapper function that will be used to define other function to\n",
    "    compute transmission loss with respect to source depth, source range, and receiver\n",
    "    depth later.\n",
    "    \"\"\"\n",
    "    if isinstance(source_depth, (int, float, np.int64, np.float64)):\n",
    "        # Convert the source depth into a list\n",
    "        source_depth = np.array([source_depth])\n",
    "    if isinstance(source_range, (int, float, np.int64, np.float64)):\n",
    "        # Convert the source depth into a list\n",
    "        source_range = np.array([source_range])\n",
    "    if isinstance(receiver_depth, (int, float, np.int64, np.float64)):\n",
    "        # Convert the source depth into a list\n",
    "        receiver_depth = np.array([receiver_depth])\n",
    "\n",
    "    # Compute the transmission loss\n",
    "    TL, _, _ = uwlib.tl.calc_tl_from_orca(\n",
    "        orca,\n",
    "        freq,\n",
    "        source_range,\n",
    "        source_depth,\n",
    "        receiver_depth,\n",
    "        return_gf=True,\n",
    "        return_nmode=True,\n",
    "    )\n",
    "    if flatten:\n",
    "        return TL.flatten()\n",
    "    else:\n",
    "        return TL\n",
    "\n",
    "\n",
    "def TL_given_source_depth(\n",
    "    source_depth, source_range, receiver_depth, orca, freq, flatten=False\n",
    "):\n",
    "    return TL_wrapper(source_depth, source_range, receiver_depth, orca, freq, flatten)\n",
    "\n",
    "\n",
    "def TL_given_source_range(\n",
    "    source_range, source_depth, receiver_depth, orca, freq, flatten=False\n",
    "):\n",
    "    return TL_wrapper(source_depth, source_range, receiver_depth, orca, freq, flatten)\n",
    "\n",
    "\n",
    "def TL_given_receiver_depth(\n",
    "    receiver_depth, source_range, source_depth, orca, freq, flatten=False\n",
    "):\n",
    "    return TL_wrapper(source_depth, source_range, receiver_depth, orca, freq, flatten)"
   ]
  },
  {
   "cell_type": "markdown",
   "metadata": {},
   "source": [
    "For each receiver, the Jacobian should look like the following:\n",
    "\n",
    "| ______ | depth source 1 | range source 1 | depth source 2 | range source 2 |\n",
    "| :-------- | :--------------: | :--------------: | :--------------: | :--------------: |\n",
    "| source 1 | $d_1$ | $d_2$ | 0 | 0 |\n",
    "| source 2 | 0 | 0 | $d_3$ | $d_4$ |\n",
    "\n",
    "Explanation: </br>\n",
    "Note that we don't consider any interference between the sound from the two sources.\n",
    "Thus, the measured TL of source 1 should be independent of the location of source 2, and vice versa.\n",
    "\n",
    "How to obtain the non-zero elements: </br>\n",
    "Suppose we want to get the Jacobian corresponding to receiver with depth index $i$ and range index $j$.\n",
    "Then, $d_1$ and $d_3$ should be obtained from the diagonal element of `J_sd_reshaped[:, i, j]`, where `J_sd` is the Jacobian with respect to source depth.\n",
    "$d_2$ and $d_4$ are extracted from `J_sr_reshaped[:, i, j, j]`, where `J_sr` is the Jacobian with respect to source range."
   ]
  },
  {
   "cell_type": "code",
   "execution_count": null,
   "metadata": {
    "ExecuteTime": {
     "end_time": "2024-10-22T15:27:12.317170Z",
     "start_time": "2024-10-22T15:27:12.308352Z"
    }
   },
   "outputs": [],
   "source": [
    "# We will use the following tuples to indicate the configurations\n",
    "configs = list(itertools.product(source_range, receiver_depth))\n",
    "print(\"Number of configurations:\", len(configs))"
   ]
  },
  {
   "cell_type": "markdown",
   "metadata": {},
   "source": [
    "From previous testing, we will use the following settings in `numdifftools`:\n",
    "* Use `order=4`\n",
    "* For the step size for `d1` and `d3` (correspond to the depth, which is measured in m), set it to `1e-1`, or 0.1 m\n",
    "* For the step size for `d2` and `d4` (correspond to the range, which is measured in km), set it to `5e-3`, or 5 m."
   ]
  },
  {
   "cell_type": "code",
   "execution_count": null,
   "metadata": {
    "ExecuteTime": {
     "end_time": "2024-10-22T15:27:15.928873Z",
     "start_time": "2024-10-22T15:27:12.321072Z"
    }
   },
   "outputs": [],
   "source": [
    "# %%capture\n",
    "\n",
    "for sediment_type in sediment_type_list:\n",
    "    # Iterate over the sediment layer types\n",
    "    print(\"Sediment:\", sediment_type)\n",
    "\n",
    "    svp_toml_file = svp_toml_path_dict[sediment_type]\n",
    "    FIM_SED_DIR = set_directory(FIM_DIR / sediment_type)\n",
    "\n",
    "    for freq in freq_list:\n",
    "        # Iterate over the frequencies\n",
    "        print(\"Frequency:\", freq, \"Hz\")\n",
    "\n",
    "        FIM_SED_FREQ_DIR = set_directory(FIM_SED_DIR / f\"f{int(freq)}Hz\")\n",
    "        jac_sed_freq_file = FIM_SED_FREQ_DIR / \"jacobian_all_configs.npz\"\n",
    "        print(sediment_type, freq)\n",
    "        if jac_sed_freq_file.exists():\n",
    "            jac_sed_freq = np.load(jac_sed_freq_file)\n",
    "            J_sd_reshaped = jac_sed_freq[\"J_source_depth\"]\n",
    "            J_sr_reshaped = jac_sed_freq[\"J_source_range\"]\n",
    "        else:\n",
    "            orca = orca_manager.initialize_orca(\n",
    "                freq, str(svp_toml_file), str(opt_toml_file)\n",
    "            )\n",
    "\n",
    "            # Compute the Jacobian\n",
    "            J_sd = nd.Jacobian(TL_given_source_depth, step=0.1, order=4)(\n",
    "                source_depth, source_range, receiver_depth, orca, freq, flatten=True\n",
    "            )\n",
    "            J_sr = nd.Jacobian(TL_given_source_range, step=5e-3, order=4)(\n",
    "                source_range, source_depth, receiver_depth, orca, freq, flatten=True\n",
    "            )\n",
    "\n",
    "            # Reshape the Jacobian\n",
    "            J_sd_reshaped = J_sd.reshape(\n",
    "                len(source_depth),\n",
    "                len(receiver_depth),\n",
    "                len(source_range),\n",
    "                len(source_depth),\n",
    "            )\n",
    "            J_sr_reshaped = J_sr.reshape(\n",
    "                len(source_depth),\n",
    "                len(receiver_depth),\n",
    "                len(source_range),\n",
    "                len(source_range),\n",
    "            )\n",
    "            np.savez(\n",
    "                jac_sed_freq_file,\n",
    "                J_source_depth=J_sd_reshaped,\n",
    "                J_source_range=J_sr_reshaped,\n",
    "            )\n",
    "\n",
    "        # Get the Jacobian for each configuration\n",
    "        for ii, conf in enumerate(configs):\n",
    "            fim_file_path = FIM_SED_FREQ_DIR / f\"config_{ii}.npz\"\n",
    "            # Elements of the Jacobian\n",
    "            r, d = conf\n",
    "            i = np.where(receiver_depth == d)[0][0]  # Receiver depth index\n",
    "            j = np.where(source_range == r)[0][0]  # Receiver range index\n",
    "            d1, d3 = np.diag(J_sd_reshaped[:, i, j])\n",
    "            d2, d4 = J_sr_reshaped[:, i, j, j]\n",
    "            # Put them together\n",
    "            jacobian = np.array([[d1, d2, 0, 0], [0, 0, d3, d4]])\n",
    "            fim = jacobian.T @ jacobian\n",
    "\n",
    "            # Export\n",
    "            np.savez(fim_file_path, jacobian=jacobian, fim=fim)"
   ]
  },
  {
   "cell_type": "code",
   "execution_count": null,
   "metadata": {
    "ExecuteTime": {
     "end_time": "2024-10-22T15:27:15.939374Z",
     "start_time": "2024-10-22T15:27:15.933254Z"
    }
   },
   "outputs": [],
   "source": [
    "# # Create a tarball\n",
    "# if not tarball.exists():\n",
    "#     os.chdir(FIM_DIR.parent)  # Entering the FIM directory\n",
    "#     # Creating a tarball\n",
    "#     with tarfile.open(tarball.name, \"w:gz\") as tar:\n",
    "#         tar.add(FIM_DIR.name)\n",
    "#     os.chdir(WORK_DIR)  # Exiting FIM directory, go back to the previous path"
   ]
  },
  {
   "cell_type": "code",
   "execution_count": null,
   "metadata": {},
   "outputs": [],
   "source": []
  }
 ],
 "metadata": {
  "kernelspec": {
   "display_name": "Python 3 (ipykernel)",
   "language": "python",
   "name": "python3"
  },
  "language_info": {
   "codemirror_mode": {
    "name": "ipython",
    "version": 3
   },
   "file_extension": ".py",
   "mimetype": "text/x-python",
   "name": "python",
   "nbconvert_exporter": "python",
   "pygments_lexer": "ipython3",
   "version": "3.7.4"
  },
  "toc": {
   "base_numbering": 1,
   "nav_menu": {},
   "number_sections": true,
   "sideBar": true,
   "skip_h1_title": false,
   "title_cell": "Table of Contents",
   "title_sidebar": "Contents",
   "toc_cell": false,
   "toc_position": {},
   "toc_section_display": true,
   "toc_window_display": false
  },
  "varInspector": {
   "cols": {
    "lenName": 16,
    "lenType": 16,
    "lenVar": 40
   },
   "kernels_config": {
    "python": {
     "delete_cmd_postfix": "",
     "delete_cmd_prefix": "del ",
     "library": "var_list.py",
     "varRefreshCmd": "print(var_dic_list())"
    },
    "r": {
     "delete_cmd_postfix": ") ",
     "delete_cmd_prefix": "rm(",
     "library": "var_list.r",
     "varRefreshCmd": "cat(var_dic_list()) "
    }
   },
   "types_to_exclude": [
    "module",
    "function",
    "builtin_function_or_method",
    "instance",
    "_Feature"
   ],
   "window_display": false
  }
 },
 "nbformat": 4,
 "nbformat_minor": 2
}
