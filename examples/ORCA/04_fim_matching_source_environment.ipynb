{
 "cells": [
  {
   "cell_type": "markdown",
   "metadata": {},
   "source": [
    "In this notebook, we will use information-matching method to find the optimal locations of hydrophones to simultaneously infer the environmental parameters and localize the sound sources.\n",
    "We will use the transmission loss data from both the top and bottom sound sources.\n",
    "\n",
    "For the source locations, we require precision within $\\pm$ 2.5 m for the depth and $\\pm$ 100 m for the range.\n",
    "However, we don't really care about the environmental parameters.\n",
    "Thus, we will set the target error bars for the environmental parameter to infinity."
   ]
  },
  {
   "cell_type": "code",
   "execution_count": null,
   "metadata": {
    "ExecuteTime": {
     "end_time": "2024-06-28T15:46:23.683860Z",
     "start_time": "2024-06-28T15:46:23.098303Z"
    }
   },
   "outputs": [],
   "source": [
    "from pathlib import Path\n",
    "import itertools\n",
    "import pickle\n",
    "\n",
    "import numpy as np\n",
    "import cvxpy as cp\n",
    "import matplotlib.pyplot as plt\n",
    "import matplotlib as mpl\n",
    "from svgpathtools import svg2paths\n",
    "from svgpath2mpl import parse_path\n",
    "\n",
    "# from fimpack import orca_manager\n",
    "\n",
    "from information_matching.convex_optimization import ConvexOpt\n",
    "from information_matching.utils import tol, eps, set_directory\n",
    "from information_matching.summary import Summary\n",
    "\n",
    "%matplotlib inline\n",
    "plt.style.use(\"default\")"
   ]
  },
  {
   "cell_type": "code",
   "execution_count": null,
   "metadata": {
    "ExecuteTime": {
     "end_time": "2024-06-28T15:46:23.694475Z",
     "start_time": "2024-06-28T15:46:23.686613Z"
    }
   },
   "outputs": [],
   "source": [
    "# Setting up directories\n",
    "WORK_DIR = Path().absolute()\n",
    "DATA_DIR = WORK_DIR / \"data\"\n",
    "SVP_DIR = DATA_DIR / \"svp\"\n",
    "TL_DIR = DATA_DIR / \"transmission_loss\"\n",
    "FIM_DIR_SOURCE = DATA_DIR / \"FIMs\" / \"source\"\n",
    "FIM_DIR_ENV = DATA_DIR / \"FIMs\" / \"environment\"\n",
    "ERROR_DIR = DATA_DIR / \"target_error\" / \"source_environment\"\n",
    "RESULT_DIR = WORK_DIR / \"results\" / ERROR_DIR.name"
   ]
  },
  {
   "cell_type": "code",
   "execution_count": null,
   "metadata": {
    "ExecuteTime": {
     "end_time": "2024-06-28T15:46:23.717050Z",
     "start_time": "2024-06-28T15:46:23.698043Z"
    }
   },
   "outputs": [],
   "source": [
    "# List of TOML files\n",
    "opt_toml_file = DATA_DIR / \"FIM_opt.toml\"\n",
    "# Sound profile files\n",
    "sediment_type_list = [\"mud\", \"clay\", \"silt\", \"sand\", \"gravel\"]\n",
    "svp_toml_path_dict = {\n",
    "    sed: SVP_DIR / f\"svp_{sed}_35m_unit_test.toml\" for sed in sediment_type_list\n",
    "}\n",
    "# List of sound source frequencies\n",
    "freq_list = [50, 100, 200, 400]  # In Hz"
   ]
  },
  {
   "cell_type": "markdown",
   "metadata": {},
   "source": [
    "# Setup"
   ]
  },
  {
   "cell_type": "code",
   "execution_count": null,
   "metadata": {
    "ExecuteTime": {
     "end_time": "2024-06-28T15:46:23.732898Z",
     "start_time": "2024-06-28T15:46:23.721197Z"
    }
   },
   "outputs": [],
   "source": [
    "# This cell has variables that control the environment setup\n",
    "ised, ifreq = 0, 0  # Index sediment type and frequency, refer to the lists abovev\n",
    "sediment_type = sediment_type_list[ised]\n",
    "freq = freq_list[ifreq]  # in Hz\n",
    "\n",
    "# Prepare a summary file\n",
    "CASE_DIR = set_directory(RESULT_DIR / sediment_type / f\"f{freq}Hz\")\n",
    "summary = Summary(CASE_DIR / \"summary.json\")"
   ]
  },
  {
   "cell_type": "code",
   "execution_count": null,
   "metadata": {
    "ExecuteTime": {
     "end_time": "2024-06-28T15:46:23.751548Z",
     "start_time": "2024-06-28T15:46:23.736663Z"
    }
   },
   "outputs": [],
   "source": [
    "# Define the configurations\n",
    "source_depth = np.array([8, 16])\n",
    "source_range = np.linspace(1, 5, 21)\n",
    "receiver_depth = receiver_depth = np.arange(5, 76, 5)\n",
    "configs = list(itertools.product(source_range, receiver_depth))\n",
    "\n",
    "# Don't use receiver depth = 75\n",
    "h_ocean = 75\n",
    "idx = np.where(np.array(configs)[:, 1] < h_ocean)[0]\n",
    "configs = [configs[ii] for ii in idx]\n",
    "nconfigs = len(configs)\n",
    "config_ids = [f\"range_{int(conf[0]*1000)}m_depth_{conf[1]}m\" for conf in configs]\n",
    "print(\"Number of configurations:\", len(configs))"
   ]
  },
  {
   "cell_type": "markdown",
   "metadata": {},
   "source": [
    "## Target FIM"
   ]
  },
  {
   "cell_type": "code",
   "execution_count": null,
   "metadata": {
    "ExecuteTime": {
     "end_time": "2024-06-28T15:46:23.766273Z",
     "start_time": "2024-06-28T15:46:23.757186Z"
    }
   },
   "outputs": [],
   "source": [
    "# The following is for plotting\n",
    "param_names = [\n",
    "    r\"$d_{s1}$\",\n",
    "    r\"$r_{s1}$\",\n",
    "    r\"$d_{s2}$\",\n",
    "    r\"$r_{s2}$\",\n",
    "    r\"$h_{ocean}$\",\n",
    "    r\"$c^1_{ocean}$\",\n",
    "    r\"$c^2_{ocean}$\",\n",
    "    r\"$h_{sed}$\",\n",
    "    r\"$c^1_{sed}$\",\n",
    "    r\"$c^2_{sed}$\",\n",
    "    r\"$\\rho^1_{sed}$\",\n",
    "    r\"$\\rho^2_{sed}$\",\n",
    "    r\"$\\alpha^1_{sed}$\",\n",
    "    r\"$\\alpha^2_{sed}$\",\n",
    "    r\"$c_{base}$\",\n",
    "    r\"$\\rho_{base}$\",\n",
    "    r\"$\\alpha_{base}$\",\n",
    "]\n",
    "nparams = len(param_names)"
   ]
  },
  {
   "cell_type": "code",
   "execution_count": null,
   "metadata": {
    "ExecuteTime": {
     "end_time": "2024-06-28T15:46:23.799533Z",
     "start_time": "2024-06-28T15:46:23.777926Z"
    }
   },
   "outputs": [],
   "source": [
    "# Get target error\n",
    "target_error_file = ERROR_DIR / f\"target_error_{sediment_type}_f{freq}Hz.npz\"\n",
    "if target_error_file.exists():\n",
    "    bestfit_error = np.load(target_error_file)\n",
    "    best_fit = bestfit_error[\"bestfit\"]\n",
    "    target_error = bestfit_error[\"error\"]\n",
    "else:\n",
    "    # Initialize ORCA\n",
    "    svp_toml_path = svp_toml_path_dict[sediment_type]\n",
    "    orca = orca_manager.initialize_orca(freq, str(svp_toml_path), str(opt_toml_file))\n",
    "    x_dict, _ = orca_manager.get_x_dict(orca)\n",
    "    # Best fit\n",
    "    best_fit_source = np.array([source_depth[0], 0.0, source_range[1], 0.0])\n",
    "    best_fit_env = np.array(\n",
    "        [\n",
    "            x_dict[name]\n",
    "            for name in [\n",
    "                \"h_ocean\",\n",
    "                \"cp1_ocean\",\n",
    "                \"cp2_ocean\",\n",
    "                \"h_layer1\",\n",
    "                \"cp1_layer1\",\n",
    "                \"cp2_layer1\",\n",
    "                \"rho1_layer1\",\n",
    "                \"rho2_layer1\",\n",
    "                \"ap1_layer1\",\n",
    "                \"ap2_layer1\",\n",
    "                \"cp1_hsp\",\n",
    "                \"rho1_hsp\",\n",
    "                \"ap1_hsp\",\n",
    "            ]\n",
    "        ]\n",
    "    )\n",
    "    best_fit = np.append(best_fit_source, best_fit_env)\n",
    "    # Target error bars\n",
    "    target_error_source = np.array([2.5, 1e-1, 2.5, 1e-1])\n",
    "    target_error_env = np.ones_like(best_fit_env) * np.inf\n",
    "    target_error = np.append(target_error_source, target_error_env)\n",
    "    # Export\n",
    "    np.savez(target_error_file, bestfit=best_fit, error=target_error)\n",
    "\n",
    "print(\"Target error:\", target_error)"
   ]
  },
  {
   "cell_type": "code",
   "execution_count": null,
   "metadata": {
    "ExecuteTime": {
     "end_time": "2024-06-28T15:46:23.810786Z",
     "start_time": "2024-06-28T15:46:23.803283Z"
    }
   },
   "outputs": [],
   "source": [
    "# Set the target FIM\n",
    "fim_target = np.diag(np.append(1 / target_error[:4] ** 2, np.zeros(nparams - 4)))\n",
    "lambdas_target, v_target = np.linalg.eigh(fim_target)\n",
    "# This indices are to help comparing the eigenvalues later\n",
    "idx_sort = np.argsort(target_error)"
   ]
  },
  {
   "cell_type": "markdown",
   "metadata": {},
   "source": [
    "## Load configuration FIMs"
   ]
  },
  {
   "cell_type": "code",
   "execution_count": null,
   "metadata": {
    "ExecuteTime": {
     "end_time": "2024-06-28T15:46:24.255165Z",
     "start_time": "2024-06-28T15:46:23.814646Z"
    }
   },
   "outputs": [],
   "source": [
    "# Collect the FIMs of the configurations\n",
    "fim_configs_tensor = np.empty((nconfigs, nparams, nparams))\n",
    "for ii in range(nconfigs):\n",
    "    # Jacobian wrt sources\n",
    "    jac_source = np.load(\n",
    "        FIM_DIR_SOURCE / sediment_type / f\"f{freq}Hz\" / f\"config_{ii}.npz\"\n",
    "    )[\"jacobian\"]\n",
    "    # Jacobian wrt environment parameters\n",
    "    jac_env = np.load(\n",
    "        FIM_DIR_ENV / sediment_type / f\"f{freq}Hz\" / f\"config_{ii}.npz\"\n",
    "    )[\"jacobian\"]\n",
    "    # Combine the Jacobian\n",
    "    jac = np.column_stack((jac_source, jac_env))\n",
    "    fim_configs_tensor[ii] = jac.T @ jac"
   ]
  },
  {
   "cell_type": "markdown",
   "metadata": {},
   "source": [
    "# Convex optimization"
   ]
  },
  {
   "cell_type": "code",
   "execution_count": null,
   "metadata": {
    "ExecuteTime": {
     "end_time": "2024-06-28T15:46:24.274721Z",
     "start_time": "2024-06-28T15:46:24.258944Z"
    }
   },
   "outputs": [],
   "source": [
    "# Construct the input FIMs\n",
    "# FIM target\n",
    "norm = np.linalg.norm(fim_target)\n",
    "fim_target = {\"fim\": fim_target, \"scale\": 1 / norm}\n",
    "# FIM configs\n",
    "fim_configs = {}\n",
    "for ii, identifier in enumerate(config_ids):\n",
    "    norm = np.linalg.norm(fim_configs_tensor[ii])\n",
    "    fim_configs.update(\n",
    "        {identifier: {\"fim\": fim_configs_tensor[ii], \"fim_scale\": 1 / norm}}\n",
    "    )"
   ]
  },
  {
   "cell_type": "code",
   "execution_count": null,
   "metadata": {
    "ExecuteTime": {
     "end_time": "2024-06-28T15:46:24.863992Z",
     "start_time": "2024-06-28T15:46:24.277581Z"
    }
   },
   "outputs": [],
   "source": [
    "# Convex optimization\n",
    "# Settings\n",
    "cvx_tol = tol\n",
    "solver = dict(verbose=True, solver=cp.SDPA, epsilonStar=cvx_tol, lambdaStar=1e-1)\n",
    "cvxopt = ConvexOpt(fim_target, fim_configs)\n",
    "\n",
    "# Solve\n",
    "cvxopt_file = CASE_DIR / \"cvx_result.pkl\"\n",
    "print(\"Tolerance:\", cvx_tol)\n",
    "if cvxopt_file.exists():\n",
    "    with open(cvxopt_file, \"rb\") as f:\n",
    "        cvxopt.result = pickle.load(f)\n",
    "    print(\"Violation:\", cvxopt.result[\"violation\"])\n",
    "    print(\"Eigenvalues of the difference matrix:\")\n",
    "    print(\n",
    "        np.linalg.eigvalsh(\n",
    "            cvxopt._difference_matrix(cvxopt.result[\"wm\"].reshape((-1, 1))).value\n",
    "        )\n",
    "    )\n",
    "else:\n",
    "    while solver[\"lambdaStar\"] < 1e3:\n",
    "        try:\n",
    "            cvxopt.solve(**solver)\n",
    "            with open(cvxopt_file, \"wb\") as f:\n",
    "                pickle.dump(cvxopt.result, f)\n",
    "            # The positive defininte condition is not strictly satisfied; only satisfied within\n",
    "            # the tolerance.\n",
    "            print(\"Violation:\", cvxopt.constraints[1].violation())\n",
    "            print(\"Eigenvalues of the difference matrix:\")\n",
    "            print(\n",
    "                np.linalg.eigvalsh(\n",
    "                    cvxopt._difference_matrix(\n",
    "                        cvxopt.result[\"wm\"].reshape((-1, 1))\n",
    "                    ).value\n",
    "                )\n",
    "            )\n",
    "            break\n",
    "        except Exception:\n",
    "            solver[\"lambdaStar\"] *= 10\n",
    "\n",
    "# Update the summary file\n",
    "summary.update(cvxopt.result, \"convex optimization\")"
   ]
  },
  {
   "cell_type": "markdown",
   "metadata": {},
   "source": [
    "## Extracting the weights"
   ]
  },
  {
   "cell_type": "code",
   "execution_count": null,
   "metadata": {
    "ExecuteTime": {
     "end_time": "2024-06-28T15:46:25.480676Z",
     "start_time": "2024-06-28T15:46:24.868253Z"
    }
   },
   "outputs": [],
   "source": [
    "wm = cvxopt.result[\"wm\"]\n",
    "unscaled_wm = cvxopt._get_unscaled_weights(wm)\n",
    "dw = cvxopt.result[\"dual_wm\"]\n",
    "wtol = cvx_tol ** 0.5\n",
    "\n",
    "# Plot the weights\n",
    "plt.figure()\n",
    "plt.plot(cvxopt.result[\"wm\"], label=\"weights\")\n",
    "plt.plot(cvxopt.result[\"dual_wm\"], label=\"dual weights\")\n",
    "# plt.axhline(wtol, color=\"k\")\n",
    "plt.yscale(\"log\")\n",
    "plt.legend()\n",
    "# plt.savefig(CASE_DIR / \"opt_weights.png\")\n",
    "plt.show()"
   ]
  },
  {
   "cell_type": "code",
   "execution_count": null,
   "metadata": {
    "ExecuteTime": {
     "end_time": "2024-06-28T15:46:25.495986Z",
     "start_time": "2024-06-28T15:46:25.484710Z"
    }
   },
   "outputs": [],
   "source": [
    "# Issue: In some cases, the dual values of the dominant weights are not significantly\n",
    "# smaller than the others.As such, we might have too few configurations if we use the\n",
    "# criteria above.\n",
    "# We can always add more configurations to constrain the parameters more. Thus, I want\n",
    "# to add this modification in the criteria to select optimal configurations. I will\n",
    "# add more and more configurations, from the ones with largest weights, until the\n",
    "# optimal errors are smaller than the target.\n",
    "# I think I can achieve this since the positive definite violation is small.\n",
    "def compute_fim_configs(idx):\n",
    "    weights_all = np.zeros(nconfigs)\n",
    "    for ii in idx:\n",
    "        weights_all[ii] = unscaled_wm[ii]\n",
    "    fim_configs = np.sum(\n",
    "        fim_configs_tensor * weights_all.reshape((nconfigs, 1, 1)), axis=0\n",
    "    )\n",
    "    return fim_configs\n",
    "\n",
    "\n",
    "def compute_optimal_error(fim):\n",
    "    cov = np.linalg.pinv(fim)\n",
    "    err = np.sqrt(np.diag(cov))\n",
    "    return err"
   ]
  },
  {
   "cell_type": "code",
   "execution_count": null,
   "metadata": {
    "ExecuteTime": {
     "end_time": "2024-06-28T15:46:25.558053Z",
     "start_time": "2024-06-28T15:46:25.499517Z"
    }
   },
   "outputs": [],
   "source": [
    "# Get the optimal weights by comparing the dual value of the weights\n",
    "idx_nonzero_weights = np.where(dw < wtol)[0]\n",
    "opt_weights = cvxopt._get_config_weights_from_idx(idx_nonzero_weights)\n",
    "print(\"Number of optimal configurations\", len(opt_weights))\n",
    "with open(CASE_DIR / \"configs_weights.pkl\", \"wb\") as f:\n",
    "    pickle.dump(opt_weights, f)\n",
    "summary.update(opt_weights, \"reduced configurations weights\")\n",
    "opt_weights"
   ]
  },
  {
   "cell_type": "code",
   "execution_count": null,
   "metadata": {
    "ExecuteTime": {
     "end_time": "2024-06-28T15:46:25.593536Z",
     "start_time": "2024-06-28T15:46:25.561981Z"
    }
   },
   "outputs": [],
   "source": [
    "idx_sort_wm = np.argsort(unscaled_wm)[::-1]\n",
    "\n",
    "for n in range(1, nconfigs + 1):\n",
    "    idx_list = idx_sort_wm[:n]\n",
    "    for ii in idx_list:\n",
    "        if ii not in idx_nonzero_weights:\n",
    "            idx_nonzero_weights = np.append(idx_nonzero_weights, ii)\n",
    "    fim_configs = compute_fim_configs(idx_nonzero_weights)\n",
    "    lambdas_configs, v = np.linalg.eigh(fim_configs)\n",
    "    # First, check if the eigenvalues of the configuration FIM are all larger than the\n",
    "    # eigenvalues of the target FIM\n",
    "    if not np.all(lambdas_configs - lambdas_target > 0):\n",
    "        continue\n",
    "\n",
    "    diff_error = compute_optimal_error(fim_configs) - target_error\n",
    "    print(diff_error)\n",
    "    # Check if the optimal error are all smaller than the target (our goal)\n",
    "    if np.all(diff_error < 0):\n",
    "        print(\"Strictly satisfied\")\n",
    "        break\n",
    "    else:\n",
    "        nviolated = nparams - np.sum(diff_error < 0)\n",
    "        if nviolated <= 3:\n",
    "            # Due to some violation in the positive semidefinite condition, the goal might\n",
    "            # not be achievable, but the error difference should be very small. We will\n",
    "            # still accept it if the error difference is below some small threshold (1e-2)\n",
    "            loc_viol = np.where(diff_error > 0)[0]\n",
    "            if np.all(np.abs(diff_error[loc_viol] / target_error[loc_viol]) < 10.0):\n",
    "                print(\"Non-strictly satisfied\")\n",
    "                break\n",
    "\n",
    "print(\"Number of optimal configurations\", len(idx_nonzero_weights))\n",
    "opt_weights = cvxopt._get_config_weights_from_idx(idx_nonzero_weights)\n",
    "with open(CASE_DIR / \"configs_weights.pkl\", \"wb\") as f:\n",
    "    pickle.dump(opt_weights, f)\n",
    "summary.update(opt_weights, \"reduced configurations weights\")\n",
    "opt_weights"
   ]
  },
  {
   "cell_type": "markdown",
   "metadata": {},
   "source": [
    "# Analyze the result"
   ]
  },
  {
   "cell_type": "code",
   "execution_count": null,
   "metadata": {
    "ExecuteTime": {
     "end_time": "2024-06-28T15:46:25.607005Z",
     "start_time": "2024-06-28T15:46:25.596568Z"
    }
   },
   "outputs": [],
   "source": [
    "# Get the final configuration FIM. Note that we only use the nonzero optimal weights.\n",
    "# idx_nonzero_weights = cvxopt.get_idx_nonzero_wm(weight_tol)\n",
    "config_ids_nonzero_weights = [config_ids[ii] for ii in idx_nonzero_weights]\n",
    "nonzero_weights = np.array([opt_weights[name] for name in config_ids_nonzero_weights])\n",
    "fim_configs = compute_fim_configs(idx_nonzero_weights)\n",
    "lambdas_configs, v = np.linalg.eigh(fim_configs)\n",
    "np.save(CASE_DIR / \"fim_configs.npy\", fim_configs)"
   ]
  },
  {
   "cell_type": "markdown",
   "metadata": {},
   "source": [
    "## Eigenvalues of the FIMs"
   ]
  },
  {
   "cell_type": "code",
   "execution_count": null,
   "metadata": {
    "ExecuteTime": {
     "end_time": "2024-06-28T15:46:25.948487Z",
     "start_time": "2024-06-28T15:46:25.610660Z"
    }
   },
   "outputs": [],
   "source": [
    "# Plot the eigenvalues\n",
    "plt.figure()\n",
    "for lt, lc in zip(lambdas_target, lambdas_configs):\n",
    "    plt.plot([-0.5, 0.5], [lt, lt], \"-\", c=\"tab:blue\")\n",
    "    plt.plot([0.5, 1.5], [lt, lc], \"--\", c=\"k\")\n",
    "    plt.plot([1.5, 2.5], [lc, lc], \"-\", c=\"k\")\n",
    "plt.yscale(\"log\")\n",
    "plt.xticks([0, 2], [\"Target QoI\", \"Configurations\"])\n",
    "plt.ylabel(\"Eigenvalues\")\n",
    "# plt.savefig(CASE_DIR / \"eigenvalues.png\")\n",
    "plt.show()"
   ]
  },
  {
   "cell_type": "markdown",
   "metadata": {},
   "source": [
    "## Parameter uncertainty"
   ]
  },
  {
   "cell_type": "code",
   "execution_count": null,
   "metadata": {
    "ExecuteTime": {
     "end_time": "2024-06-28T15:46:27.715150Z",
     "start_time": "2024-06-28T15:46:25.952749Z"
    }
   },
   "outputs": [],
   "source": [
    "# Plot the error result\n",
    "opt_error = compute_optimal_error(fim_configs)\n",
    "\n",
    "plt.figure(dpi=300)\n",
    "plt.plot(target_error, \"-o\", label=\"target\")\n",
    "plt.plot(opt_error, \"-o\", label=\"optimal\")\n",
    "plt.xticks(range(nparams), param_names, rotation=90)\n",
    "plt.ylim(1e-4, 1e3)\n",
    "plt.ylabel(\"Error\")\n",
    "plt.yscale(\"log\")\n",
    "plt.legend()\n",
    "plt.savefig(CASE_DIR / \"error_qoi.png\")\n",
    "plt.show()"
   ]
  },
  {
   "cell_type": "markdown",
   "metadata": {},
   "source": [
    "## Visualize the result on the real environment"
   ]
  },
  {
   "cell_type": "code",
   "execution_count": null,
   "metadata": {
    "ExecuteTime": {
     "end_time": "2024-06-28T15:46:27.733917Z",
     "start_time": "2024-06-28T15:46:27.719045Z"
    }
   },
   "outputs": [],
   "source": [
    "# For plotting\n",
    "speaker_path, attributes = svg2paths(DATA_DIR / \"Speaker_Icon.svg\")\n",
    "speaker_marker = parse_path(attributes[0][\"d\"])\n",
    "# Touchups\n",
    "speaker_marker.vertices -= speaker_marker.vertices.mean(axis=0)\n",
    "speaker_marker = speaker_marker.transformed(mpl.transforms.Affine2D().rotate_deg(180))\n",
    "speaker_marker = speaker_marker.transformed(mpl.transforms.Affine2D().scale(-1,1))"
   ]
  },
  {
   "cell_type": "code",
   "execution_count": null,
   "metadata": {
    "ExecuteTime": {
     "end_time": "2024-06-28T15:46:27.767018Z",
     "start_time": "2024-06-28T15:46:27.737736Z"
    }
   },
   "outputs": [],
   "source": [
    "# Transmission loss data for plotting\n",
    "TL_file = TL_DIR / f\"TL_{sediment_type}_f{freq}Hz.npz\"\n",
    "TL_data = np.load(TL_file)\n",
    "source_range_fine = TL_data[\"source_range\"]\n",
    "receiver_depth_fine = TL_data[\"receiver_depth\"]\n",
    "TL = TL_data[\"TL\"]    \n",
    "SR, RD = np.meshgrid(source_range_fine, receiver_depth_fine)"
   ]
  },
  {
   "cell_type": "code",
   "execution_count": null,
   "metadata": {
    "ExecuteTime": {
     "end_time": "2024-06-28T15:46:31.832312Z",
     "start_time": "2024-06-28T15:46:27.770360Z"
    }
   },
   "outputs": [],
   "source": [
    "configs = np.array(configs)\n",
    "# TL from the top source\n",
    "plt.figure(dpi=300, figsize=(6.4, 9.6))\n",
    "\n",
    "# Plot transmission loss profile\n",
    "plt.contourf(SR, -RD, TL[0, :, :, 0], levels=np.linspace(-132, -16, 117))\n",
    "plt.colorbar(label=\"Transmission loss\", orientation=\"horizontal\", pad=0.075)\n",
    "\n",
    "# Plot the halfspace/basement\n",
    "plt.axhline(-h_ocean, c=\"k\")\n",
    "plt.fill_between(\n",
    "    [-0.1, source_range[-1]],\n",
    "    [-h_ocean, -h_ocean],\n",
    "    [-h_ocean - 10, -h_ocean - 10],\n",
    "    color=\"brown\",\n",
    ")\n",
    "plt.text(\n",
    "    2.0,\n",
    "    -np.max(receiver_depth) - 5,\n",
    "    \"Sediment\",\n",
    "    bbox={\"facecolor\": \"white\", \"ec\": \"white\"},\n",
    ")\n",
    "\n",
    "# Put the sources\n",
    "plt.errorbar(\n",
    "    [0],\n",
    "    -source_depth[0],\n",
    "    yerr=target_error[[0]],\n",
    "    xerr=target_error[[1]],\n",
    "    marker=speaker_marker,\n",
    "    markersize=20,\n",
    "    color=\"blue\",\n",
    "    capsize=5,\n",
    ")\n",
    "\n",
    "# Plot all receivers\n",
    "# plt.plot(configs[:, 0], -configs[:, 1], \"ko\")\n",
    "# Plot the results\n",
    "plt.plot(\n",
    "    configs[idx_nonzero_weights, 0],\n",
    "    -configs[idx_nonzero_weights, 1],\n",
    "    \"ko\",\n",
    "    label=\"Optimal receiver\",\n",
    ")\n",
    "\n",
    "plt.xlim(-0.2, source_range[-1])\n",
    "plt.ylim(-receiver_depth[-1] - 10, 0)\n",
    "\n",
    "plt.xlabel(\"Range (km)\")\n",
    "plt.ylabel(\"Depth (m)\")\n",
    "# plt.legend()\n",
    "plt.savefig(CASE_DIR / \"optimal_configs_top.png\")\n",
    "plt.show()"
   ]
  },
  {
   "cell_type": "code",
   "execution_count": null,
   "metadata": {
    "ExecuteTime": {
     "end_time": "2024-06-28T15:46:34.931235Z",
     "start_time": "2024-06-28T15:46:31.836352Z"
    }
   },
   "outputs": [],
   "source": [
    "# TL from the bottom source\n",
    "plt.figure(dpi=300, figsize=(6.4, 9.6))\n",
    "\n",
    "# Plot transmission loss profile\n",
    "plt.contourf(SR, -RD, TL[1, :, :, 0], levels=np.linspace(-132, -16, 117))\n",
    "plt.colorbar(label=\"Transmission loss\", orientation=\"horizontal\", pad=0.075)\n",
    "\n",
    "# Plot the halfspace/basement\n",
    "plt.axhline(-h_ocean, c=\"k\")\n",
    "plt.fill_between(\n",
    "    [-0.1, source_range[-1]],\n",
    "    [-h_ocean, -h_ocean],\n",
    "    [-h_ocean - 10, -h_ocean - 10],\n",
    "    color=\"brown\",\n",
    ")\n",
    "plt.text(\n",
    "    2.0,\n",
    "    -np.max(receiver_depth) - 5,\n",
    "    \"Sediment\",\n",
    "    bbox={\"facecolor\": \"white\", \"ec\": \"white\"},\n",
    ")\n",
    "\n",
    "# Put the sources\n",
    "plt.errorbar(\n",
    "    [0],\n",
    "    -source_depth[1],\n",
    "    yerr=target_error[[2]],\n",
    "    xerr=target_error[[3]],\n",
    "    marker=speaker_marker,\n",
    "    markersize=20,\n",
    "    color=\"blue\",\n",
    "    capsize=5,\n",
    ")\n",
    "\n",
    "# Plot all receivers\n",
    "# plt.plot(configs[:, 0], -configs[:, 1], \"ko\")\n",
    "# Plot the results\n",
    "plt.plot(\n",
    "    configs[idx_nonzero_weights, 0],\n",
    "    -configs[idx_nonzero_weights, 1],\n",
    "    \"ko\",\n",
    "    label=\"Optimal receiver\",\n",
    ")\n",
    "\n",
    "plt.xlim(-0.2, source_range[-1])\n",
    "plt.ylim(-receiver_depth[-1] - 10, 0)\n",
    "\n",
    "plt.xlabel(\"Range (km)\")\n",
    "plt.ylabel(\"Depth (m)\")\n",
    "# plt.legend()\n",
    "plt.savefig(CASE_DIR / \"optimal_configs_bottom.png\")\n",
    "plt.show()"
   ]
  },
  {
   "cell_type": "code",
   "execution_count": null,
   "metadata": {},
   "outputs": [],
   "source": []
  }
 ],
 "metadata": {
  "kernelspec": {
   "display_name": "Python 3 (ipykernel)",
   "language": "python",
   "name": "python3"
  },
  "language_info": {
   "codemirror_mode": {
    "name": "ipython",
    "version": 3
   },
   "file_extension": ".py",
   "mimetype": "text/x-python",
   "name": "python",
   "nbconvert_exporter": "python",
   "pygments_lexer": "ipython3",
   "version": "3.10.12"
  },
  "toc": {
   "base_numbering": 1,
   "nav_menu": {},
   "number_sections": true,
   "sideBar": true,
   "skip_h1_title": false,
   "title_cell": "Table of Contents",
   "title_sidebar": "Contents",
   "toc_cell": false,
   "toc_position": {
    "height": "calc(100% - 180px)",
    "left": "10px",
    "top": "150px",
    "width": "372.364px"
   },
   "toc_section_display": true,
   "toc_window_display": false
  },
  "varInspector": {
   "cols": {
    "lenName": 16,
    "lenType": 16,
    "lenVar": 40
   },
   "kernels_config": {
    "python": {
     "delete_cmd_postfix": "",
     "delete_cmd_prefix": "del ",
     "library": "var_list.py",
     "varRefreshCmd": "print(var_dic_list())"
    },
    "r": {
     "delete_cmd_postfix": ") ",
     "delete_cmd_prefix": "rm(",
     "library": "var_list.r",
     "varRefreshCmd": "cat(var_dic_list()) "
    }
   },
   "types_to_exclude": [
    "module",
    "function",
    "builtin_function_or_method",
    "instance",
    "_Feature"
   ],
   "window_display": false
  }
 },
 "nbformat": 4,
 "nbformat_minor": 2
}
