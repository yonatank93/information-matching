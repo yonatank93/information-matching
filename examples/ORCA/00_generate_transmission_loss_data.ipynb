{
 "cells": [
  {
   "cell_type": "markdown",
   "metadata": {},
   "source": [
    "Use this notebook to generate the transmission loss patterns for various sediment layers, source depth, and source sound frequency.\n",
    "\n",
    "**Disclaimer:** This calculation requires `uwlib` and `fimpack`, which are proprietary modules developed at BYU.\n",
    "\n",
    "I will try to make this notebook accessible for those who don't have access to these packages, by exporting what I calculated and include them in this repo.\n",
    "However, the calculation to generate the transmission loss data will also be included here."
   ]
  },
  {
   "cell_type": "code",
   "execution_count": null,
   "metadata": {
    "ExecuteTime": {
     "end_time": "2024-06-21T18:42:36.913833Z",
     "start_time": "2024-06-21T18:42:36.893945Z"
    }
   },
   "outputs": [],
   "source": [
    "from pathlib import Path\n",
    "import tarfile\n",
    "\n",
    "import numpy as np\n",
    "\n",
    "# import uwlib\n",
    "# from fimpack import orca_manager\n",
    "\n",
    "%matplotlib inline\n",
    "plt.style.use(\"default\")"
   ]
  },
  {
   "cell_type": "code",
   "execution_count": null,
   "metadata": {
    "ExecuteTime": {
     "end_time": "2024-06-21T18:42:37.379217Z",
     "start_time": "2024-06-21T18:42:36.916707Z"
    }
   },
   "outputs": [],
   "source": [
    "# Setting up directories\n",
    "WORK_DIR = Path().absolute()\n",
    "DATA_DIR = WORK_DIR / \"data\"\n",
    "SVP_DIR = DATA_DIR / \"svp\""
   ]
  },
  {
   "cell_type": "code",
   "execution_count": null,
   "metadata": {
    "ExecuteTime": {
     "end_time": "2024-06-21T18:42:37.784277Z",
     "start_time": "2024-06-21T18:42:37.734187Z"
    }
   },
   "outputs": [],
   "source": [
    "# To help those who don't have access to uwlib and fimpack, let's try to get the\n",
    "# transmission loss data from the tarball that I generated.\n",
    "TL_DIR = DATA_DIR / \"transmission_loss\"\n",
    "tarball = DATA_DIR / \"transmission_loss.tar.gz\"\n",
    "if not TL_DIR.exists():\n",
    "    # Check if tarball exists. If it does, then extract.\n",
    "    if tarball.exists():\n",
    "        os.chdir(DATA_DIR)  # Entering the data directory\n",
    "        # Extracting the tarball\n",
    "        with tarfile.open(tarball.name) as f:\n",
    "            f.extractall()\n",
    "        os.chdir(WORK_DIR)  # Exiting datadirectory, go back to the previous path\n",
    "    else:\n",
    "        # There is no transmission loss data. This is mainly for me to generate the\n",
    "        # data.\n",
    "        TL_DIR.mkdir()"
   ]
  },
  {
   "cell_type": "code",
   "execution_count": null,
   "metadata": {
    "ExecuteTime": {
     "end_time": "2024-06-21T18:42:37.854500Z",
     "start_time": "2024-06-21T18:42:37.789284Z"
    }
   },
   "outputs": [],
   "source": [
    "# List of TOML files\n",
    "opt_toml_file = WORK_DIR / \"FIM_opt.toml\"\n",
    "# Sound profile files\n",
    "sediment_type_list = [\"mud\", \"clay\", \"silt\", \"sand\", \"gravel\"]\n",
    "svp_toml_path_dict = {\n",
    "    sed: SVP_DIR / f\"svp_{sed}_35m_unit_test.toml\" for sed in sediment_type_list\n",
    "}\n",
    "# List of sound source frequencies\n",
    "freq_list = [50, 100, 200, 400]  # In Hz"
   ]
  },
  {
   "cell_type": "code",
   "execution_count": null,
   "metadata": {
    "ExecuteTime": {
     "end_time": "2024-06-21T18:42:37.876318Z",
     "start_time": "2024-06-21T18:42:37.862400Z"
    }
   },
   "outputs": [],
   "source": [
    "# Source depth and range, and receiver depth\n",
    "source_depth = np.array([8, 16])\n",
    "source_range = np.linspace(1, 5, 21)\n",
    "receiver_depth = np.arange(5, 76, 5)\n",
    "\n",
    "source_range_fine = np.linspace(0, source_range[-1], 501)[1:]\n",
    "receiver_depth_fine = np.linspace(0, receiver_depth[-1], 751)[1:]"
   ]
  },
  {
   "cell_type": "code",
   "execution_count": null,
   "metadata": {
    "ExecuteTime": {
     "end_time": "2024-06-21T18:42:37.894292Z",
     "start_time": "2024-06-21T18:42:37.880900Z"
    }
   },
   "outputs": [],
   "source": [
    "# Run the calculation to generate TL data for all sediment types and frequencies\n",
    "for sediment_type in sediment_type_list:\n",
    "    for freq in freq_list:\n",
    "        TL_file = TL_DIR / f\"TL_{sediment_type}_f{freq}Hz.npz\"\n",
    "        if not TL_file.exists():\n",
    "            print(\n",
    "                f\"Compute transmission loss for {sediment_type} at frequency {freq} Hz\"\n",
    "            )\n",
    "            # Initialize ORCA\n",
    "            svp_toml_path = svp_toml_path_dict[sediment_type]\n",
    "            orca = orca_manager.initialize_orca(\n",
    "                freq, str(svp_toml_path), str(opt_toml_file)\n",
    "            )\n",
    "            # Compute transmission loss\n",
    "            TL, _, _ = uwlib.tl.calc_tl_from_orca(\n",
    "                orca,\n",
    "                freq,\n",
    "                source_range_fine,\n",
    "                source_depth,\n",
    "                receiver_depth_fine,\n",
    "                return_gf=True,\n",
    "                return_nmode=True,\n",
    "            )\n",
    "            # Export\n",
    "            np.savez(\n",
    "                TL_file,\n",
    "                source_depth=source_depth,\n",
    "                source_range=source_range_fine,\n",
    "                receiver_depth=receiver_depth_fine,\n",
    "                TL=TL,\n",
    "            )"
   ]
  },
  {
   "cell_type": "code",
   "execution_count": null,
   "metadata": {
    "ExecuteTime": {
     "end_time": "2024-06-21T18:42:54.343096Z",
     "start_time": "2024-06-21T18:42:37.898072Z"
    }
   },
   "outputs": [],
   "source": [
    "# Create a tarball\n",
    "if not tarball.exists():\n",
    "    os.chdir(DATA_DIR)  # Entering the data directory\n",
    "    # Creating a tarball\n",
    "    with tarfile.open(tarball, \"w:gz\") as tar:\n",
    "        tar.add(TL_DIR.name)\n",
    "    os.chdir(WORK_DIR)  # Exiting datadirectory, go back to the previous path"
   ]
  },
  {
   "cell_type": "code",
   "execution_count": null,
   "metadata": {},
   "outputs": [],
   "source": []
  }
 ],
 "metadata": {
  "kernelspec": {
   "display_name": "Python 3 (ipykernel)",
   "language": "python",
   "name": "python3"
  },
  "language_info": {
   "codemirror_mode": {
    "name": "ipython",
    "version": 3
   },
   "file_extension": ".py",
   "mimetype": "text/x-python",
   "name": "python",
   "nbconvert_exporter": "python",
   "pygments_lexer": "ipython3",
   "version": "3.7.4"
  },
  "toc": {
   "base_numbering": 1,
   "nav_menu": {},
   "number_sections": true,
   "sideBar": true,
   "skip_h1_title": false,
   "title_cell": "Table of Contents",
   "title_sidebar": "Contents",
   "toc_cell": false,
   "toc_position": {},
   "toc_section_display": true,
   "toc_window_display": false
  },
  "varInspector": {
   "cols": {
    "lenName": 16,
    "lenType": 16,
    "lenVar": 40
   },
   "kernels_config": {
    "python": {
     "delete_cmd_postfix": "",
     "delete_cmd_prefix": "del ",
     "library": "var_list.py",
     "varRefreshCmd": "print(var_dic_list())"
    },
    "r": {
     "delete_cmd_postfix": ") ",
     "delete_cmd_prefix": "rm(",
     "library": "var_list.r",
     "varRefreshCmd": "cat(var_dic_list()) "
    }
   },
   "types_to_exclude": [
    "module",
    "function",
    "builtin_function_or_method",
    "instance",
    "_Feature"
   ],
   "window_display": false
  }
 },
 "nbformat": 4,
 "nbformat_minor": 2
}
